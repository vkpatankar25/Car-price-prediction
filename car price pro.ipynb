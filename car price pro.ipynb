{
 "cells": [
  {
   "cell_type": "markdown",
   "metadata": {},
   "source": [
    "# Project - Car Price Prediction"
   ]
  },
  {
   "cell_type": "markdown",
   "metadata": {},
   "source": [
    "With the covid 19 impact in the market, we have seen lot of changes in the car market. Now some cars are in demand hence making them costly and some are not in demand hence cheaper."
   ]
  },
  {
   "cell_type": "code",
   "execution_count": 67,
   "metadata": {
    "scrolled": false
   },
   "outputs": [
    {
     "data": {
      "text/html": [
       "<div>\n",
       "<style scoped>\n",
       "    .dataframe tbody tr th:only-of-type {\n",
       "        vertical-align: middle;\n",
       "    }\n",
       "\n",
       "    .dataframe tbody tr th {\n",
       "        vertical-align: top;\n",
       "    }\n",
       "\n",
       "    .dataframe thead th {\n",
       "        text-align: right;\n",
       "    }\n",
       "</style>\n",
       "<table border=\"1\" class=\"dataframe\">\n",
       "  <thead>\n",
       "    <tr style=\"text-align: right;\">\n",
       "      <th></th>\n",
       "      <th>Site</th>\n",
       "      <th>Model</th>\n",
       "      <th>Fuel</th>\n",
       "      <th>Km</th>\n",
       "      <th>Location</th>\n",
       "      <th>Year</th>\n",
       "      <th>Cost</th>\n",
       "    </tr>\n",
       "  </thead>\n",
       "  <tbody>\n",
       "    <tr>\n",
       "      <th>0</th>\n",
       "      <td>CARS24</td>\n",
       "      <td>Maruti Suzuki Alto 800 LXI, 2010</td>\n",
       "      <td>Petrol</td>\n",
       "      <td>59298</td>\n",
       "      <td>DELHI</td>\n",
       "      <td>2010.0</td>\n",
       "      <td>166467.0</td>\n",
       "    </tr>\n",
       "    <tr>\n",
       "      <th>1</th>\n",
       "      <td>CARS24</td>\n",
       "      <td>Honda Jazz 1.5 VX i DTEC, 2009</td>\n",
       "      <td>NaN</td>\n",
       "      <td>54000</td>\n",
       "      <td>KANPUR</td>\n",
       "      <td>2009.0</td>\n",
       "      <td>545577.0</td>\n",
       "    </tr>\n",
       "    <tr>\n",
       "      <th>2</th>\n",
       "      <td>CARS24</td>\n",
       "      <td>Datsun GO T, 2017</td>\n",
       "      <td>Petrol</td>\n",
       "      <td>66336</td>\n",
       "      <td>AHMEDABAD</td>\n",
       "      <td>2017.0</td>\n",
       "      <td>260000.0</td>\n",
       "    </tr>\n",
       "    <tr>\n",
       "      <th>3</th>\n",
       "      <td>CARS24</td>\n",
       "      <td>Hyundai Grand i10 2017 Petrol 13750 Km Driven</td>\n",
       "      <td>Petrol</td>\n",
       "      <td>13750</td>\n",
       "      <td>NAVI MUMBAI</td>\n",
       "      <td>2017.0</td>\n",
       "      <td>449000.0</td>\n",
       "    </tr>\n",
       "    <tr>\n",
       "      <th>4</th>\n",
       "      <td>CARS24</td>\n",
       "      <td>Hyundai Elite i20 sportz 2018 Petrol 25000 Km ...</td>\n",
       "      <td>Petrol</td>\n",
       "      <td>25000</td>\n",
       "      <td>DELHI</td>\n",
       "      <td>2018.0</td>\n",
       "      <td>590000.0</td>\n",
       "    </tr>\n",
       "    <tr>\n",
       "      <th>...</th>\n",
       "      <td>...</td>\n",
       "      <td>...</td>\n",
       "      <td>...</td>\n",
       "      <td>...</td>\n",
       "      <td>...</td>\n",
       "      <td>...</td>\n",
       "      <td>...</td>\n",
       "    </tr>\n",
       "    <tr>\n",
       "      <th>5672</th>\n",
       "      <td>olx</td>\n",
       "      <td>Wedding vintage car</td>\n",
       "      <td>NaN</td>\n",
       "      <td>77170</td>\n",
       "      <td>BERHMAPUR</td>\n",
       "      <td>2015.0</td>\n",
       "      <td>725000.0</td>\n",
       "    </tr>\n",
       "    <tr>\n",
       "      <th>5673</th>\n",
       "      <td>olx</td>\n",
       "      <td>Wedding vintage car</td>\n",
       "      <td>NaN</td>\n",
       "      <td>43000</td>\n",
       "      <td>AJMER</td>\n",
       "      <td>2014.0</td>\n",
       "      <td>725000.0</td>\n",
       "    </tr>\n",
       "    <tr>\n",
       "      <th>5674</th>\n",
       "      <td>olx</td>\n",
       "      <td>Wedding vintage car</td>\n",
       "      <td>NaN</td>\n",
       "      <td>58000</td>\n",
       "      <td>CHANOD</td>\n",
       "      <td>2014.0</td>\n",
       "      <td>714000.0</td>\n",
       "    </tr>\n",
       "    <tr>\n",
       "      <th>5675</th>\n",
       "      <td>olx</td>\n",
       "      <td>Wedding vintage car</td>\n",
       "      <td>NaN</td>\n",
       "      <td>13000</td>\n",
       "      <td>PATHSALA</td>\n",
       "      <td>2020.0</td>\n",
       "      <td>715000.0</td>\n",
       "    </tr>\n",
       "    <tr>\n",
       "      <th>5676</th>\n",
       "      <td>olx</td>\n",
       "      <td>Wedding vintage car</td>\n",
       "      <td>NaN</td>\n",
       "      <td>72000</td>\n",
       "      <td>FATEHGARH</td>\n",
       "      <td>2014.0</td>\n",
       "      <td>1500000.0</td>\n",
       "    </tr>\n",
       "  </tbody>\n",
       "</table>\n",
       "<p>5677 rows × 7 columns</p>\n",
       "</div>"
      ],
      "text/plain": [
       "        Site                                              Model    Fuel  \\\n",
       "0     CARS24                   Maruti Suzuki Alto 800 LXI, 2010  Petrol   \n",
       "1     CARS24                     Honda Jazz 1.5 VX i DTEC, 2009     NaN   \n",
       "2     CARS24                                  Datsun GO T, 2017  Petrol   \n",
       "3     CARS24      Hyundai Grand i10 2017 Petrol 13750 Km Driven  Petrol   \n",
       "4     CARS24  Hyundai Elite i20 sportz 2018 Petrol 25000 Km ...  Petrol   \n",
       "...      ...                                                ...     ...   \n",
       "5672     olx                                Wedding vintage car     NaN   \n",
       "5673     olx                                Wedding vintage car     NaN   \n",
       "5674     olx                                Wedding vintage car     NaN   \n",
       "5675     olx                                Wedding vintage car     NaN   \n",
       "5676     olx                                Wedding vintage car     NaN   \n",
       "\n",
       "         Km      Location    Year       Cost  \n",
       "0     59298         DELHI  2010.0   166467.0  \n",
       "1     54000        KANPUR  2009.0   545577.0  \n",
       "2     66336     AHMEDABAD  2017.0   260000.0  \n",
       "3     13750   NAVI MUMBAI  2017.0   449000.0  \n",
       "4     25000         DELHI  2018.0   590000.0  \n",
       "...     ...           ...     ...        ...  \n",
       "5672  77170     BERHMAPUR  2015.0   725000.0  \n",
       "5673  43000         AJMER  2014.0   725000.0  \n",
       "5674  58000        CHANOD  2014.0   714000.0  \n",
       "5675  13000      PATHSALA  2020.0   715000.0  \n",
       "5676  72000     FATEHGARH  2014.0  1500000.0  \n",
       "\n",
       "[5677 rows x 7 columns]"
      ]
     },
     "execution_count": 67,
     "metadata": {},
     "output_type": "execute_result"
    }
   ],
   "source": [
    "#lets import pandas library to read the data\n",
    "import pandas as pd\n",
    "df = pd.read_excel('Combined.xlsx')\n",
    "df"
   ]
  },
  {
   "cell_type": "markdown",
   "metadata": {},
   "source": [
    "Here in this dataset we have train excel file. So to build a model using Machine Learning in order to predict the actual value we have to do preprocessing on train dataset and predict the output."
   ]
  },
  {
   "cell_type": "markdown",
   "metadata": {},
   "source": [
    "# Data Pre-processing"
   ]
  },
  {
   "cell_type": "markdown",
   "metadata": {},
   "source": [
    "There is some process that we have to do while pre-processing.\n",
    "\n",
    "1.Our dataset is not always in proper format. Sometimes there maybe some missing values, sometimes there must be out of the box values. Our data is always a raw data so for that we have to do some wrangling process.\n",
    "\n",
    "2.Check the data type of each column.\n",
    "\n",
    "3.Check the summary of our dataset."
   ]
  },
  {
   "cell_type": "code",
   "execution_count": 68,
   "metadata": {},
   "outputs": [
    {
     "data": {
      "text/plain": [
       "Index(['Site', 'Model', 'Fuel', 'Km', 'Location', 'Year', 'Cost'], dtype='object')"
      ]
     },
     "execution_count": 68,
     "metadata": {},
     "output_type": "execute_result"
    }
   ],
   "source": [
    "#Check the columns name\n",
    "df.columns"
   ]
  },
  {
   "cell_type": "code",
   "execution_count": 69,
   "metadata": {},
   "outputs": [
    {
     "data": {
      "text/plain": [
       "Site          0\n",
       "Model         0\n",
       "Fuel        224\n",
       "Km            7\n",
       "Location      0\n",
       "Year         16\n",
       "Cost          0\n",
       "dtype: int64"
      ]
     },
     "execution_count": 69,
     "metadata": {},
     "output_type": "execute_result"
    }
   ],
   "source": [
    "df.isnull().sum()  #check null values"
   ]
  },
  {
   "cell_type": "code",
   "execution_count": 78,
   "metadata": {
    "scrolled": false
   },
   "outputs": [
    {
     "name": "stdout",
     "output_type": "stream",
     "text": [
      "<class 'pandas.core.frame.DataFrame'>\n",
      "Int64Index: 5441 entries, 0 to 5667\n",
      "Data columns (total 7 columns):\n",
      " #   Column    Non-Null Count  Dtype  \n",
      "---  ------    --------------  -----  \n",
      " 0   Site      5441 non-null   int32  \n",
      " 1   Model     5441 non-null   int32  \n",
      " 2   Fuel      5441 non-null   int32  \n",
      " 3   Km        5441 non-null   int32  \n",
      " 4   Location  5441 non-null   int32  \n",
      " 5   Year      5441 non-null   float64\n",
      " 6   Cost      5441 non-null   float64\n",
      "dtypes: float64(2), int32(5)\n",
      "memory usage: 233.8 KB\n",
      "AxesSubplot(0.125,0.125;0.62x0.755)\n"
     ]
    },
    {
     "data": {
      "image/png": "[encoded data removed]",
      "text/plain": [
       "<Figure size 432x288 with 2 Axes>"
      ]
     },
     "metadata": {
      "needs_background": "light"
     },
     "output_type": "display_data"
    }
   ],
   "source": [
    "import seaborn as sns             #visualization library to see null values graphically\n",
    "import matplotlib.pyplot as plt   #another visualization library to plot the output\n",
    "pd.options.display.max_info_columns = 7   #check the columns info if any null values present\n",
    "df.info()                              #displays the info\n",
    "print(sns.heatmap(df.isnull()))"
   ]
  },
  {
   "cell_type": "code",
   "execution_count": 71,
   "metadata": {
    "scrolled": true
   },
   "outputs": [],
   "source": [
    "df = df.dropna()  #drop null values"
   ]
  },
  {
   "cell_type": "code",
   "execution_count": 73,
   "metadata": {
    "scrolled": false
   },
   "outputs": [
    {
     "data": {
      "text/plain": [
       "Site        0\n",
       "Model       0\n",
       "Fuel        0\n",
       "Km          0\n",
       "Location    0\n",
       "Year        0\n",
       "Cost        0\n",
       "dtype: int64"
      ]
     },
     "execution_count": 73,
     "metadata": {},
     "output_type": "execute_result"
    }
   ],
   "source": [
    "df.isnull().sum()"
   ]
  },
  {
   "cell_type": "code",
   "execution_count": 74,
   "metadata": {},
   "outputs": [
    {
     "name": "stdout",
     "output_type": "stream",
     "text": [
      "Index(['Site', 'Model', 'Fuel', 'Km', 'Location'], dtype='object')\n"
     ]
    }
   ],
   "source": [
    "objList = df.select_dtypes(include = \"object\").columns\n",
    "print (objList)"
   ]
  },
  {
   "cell_type": "code",
   "execution_count": 75,
   "metadata": {},
   "outputs": [
    {
     "name": "stdout",
     "output_type": "stream",
     "text": [
      "<class 'pandas.core.frame.DataFrame'>\n",
      "Int64Index: 5441 entries, 0 to 5667\n",
      "Columns: 7 entries, Site to Cost\n",
      "dtypes: float64(2), int32(5)\n",
      "memory usage: 233.8 KB\n",
      "None\n"
     ]
    }
   ],
   "source": [
    "from sklearn.preprocessing import LabelEncoder\n",
    "le = LabelEncoder()\n",
    "\n",
    "for Site in objList:\n",
    "    df[Site] = le.fit_transform(df[Site].astype(str))\n",
    "\n",
    "print (df.info())"
   ]
  },
  {
   "cell_type": "code",
   "execution_count": 76,
   "metadata": {},
   "outputs": [
    {
     "data": {
      "text/html": [
       "<div>\n",
       "<style scoped>\n",
       "    .dataframe tbody tr th:only-of-type {\n",
       "        vertical-align: middle;\n",
       "    }\n",
       "\n",
       "    .dataframe tbody tr th {\n",
       "        vertical-align: top;\n",
       "    }\n",
       "\n",
       "    .dataframe thead th {\n",
       "        text-align: right;\n",
       "    }\n",
       "</style>\n",
       "<table border=\"1\" class=\"dataframe\">\n",
       "  <thead>\n",
       "    <tr style=\"text-align: right;\">\n",
       "      <th></th>\n",
       "      <th>Site</th>\n",
       "      <th>Model</th>\n",
       "      <th>Fuel</th>\n",
       "      <th>Km</th>\n",
       "      <th>Location</th>\n",
       "      <th>Year</th>\n",
       "      <th>Cost</th>\n",
       "    </tr>\n",
       "  </thead>\n",
       "  <tbody>\n",
       "    <tr>\n",
       "      <th>0</th>\n",
       "      <td>0</td>\n",
       "      <td>1062</td>\n",
       "      <td>8</td>\n",
       "      <td>1835</td>\n",
       "      <td>25</td>\n",
       "      <td>2010.0</td>\n",
       "      <td>166467.0</td>\n",
       "    </tr>\n",
       "    <tr>\n",
       "      <th>2</th>\n",
       "      <td>0</td>\n",
       "      <td>78</td>\n",
       "      <td>8</td>\n",
       "      <td>2013</td>\n",
       "      <td>1</td>\n",
       "      <td>2017.0</td>\n",
       "      <td>260000.0</td>\n",
       "    </tr>\n",
       "    <tr>\n",
       "      <th>3</th>\n",
       "      <td>0</td>\n",
       "      <td>443</td>\n",
       "      <td>8</td>\n",
       "      <td>421</td>\n",
       "      <td>79</td>\n",
       "      <td>2017.0</td>\n",
       "      <td>449000.0</td>\n",
       "    </tr>\n",
       "    <tr>\n",
       "      <th>4</th>\n",
       "      <td>0</td>\n",
       "      <td>418</td>\n",
       "      <td>8</td>\n",
       "      <td>892</td>\n",
       "      <td>25</td>\n",
       "      <td>2018.0</td>\n",
       "      <td>590000.0</td>\n",
       "    </tr>\n",
       "    <tr>\n",
       "      <th>5</th>\n",
       "      <td>0</td>\n",
       "      <td>1179</td>\n",
       "      <td>8</td>\n",
       "      <td>2003</td>\n",
       "      <td>21</td>\n",
       "      <td>2006.0</td>\n",
       "      <td>190000.0</td>\n",
       "    </tr>\n",
       "  </tbody>\n",
       "</table>\n",
       "</div>"
      ],
      "text/plain": [
       "   Site  Model  Fuel    Km  Location    Year      Cost\n",
       "0     0   1062     8  1835        25  2010.0  166467.0\n",
       "2     0     78     8  2013         1  2017.0  260000.0\n",
       "3     0    443     8   421        79  2017.0  449000.0\n",
       "4     0    418     8   892        25  2018.0  590000.0\n",
       "5     0   1179     8  2003        21  2006.0  190000.0"
      ]
     },
     "execution_count": 76,
     "metadata": {},
     "output_type": "execute_result"
    }
   ],
   "source": [
    "df.head()"
   ]
  },
  {
   "cell_type": "code",
   "execution_count": 127,
   "metadata": {
    "scrolled": true
   },
   "outputs": [
    {
     "data": {
      "text/plain": [
       "Site          int32\n",
       "Model         int32\n",
       "Fuel          int32\n",
       "Km            int32\n",
       "Location      int32\n",
       "Year        float64\n",
       "Cost        float64\n",
       "dtype: object"
      ]
     },
     "execution_count": 127,
     "metadata": {},
     "output_type": "execute_result"
    }
   ],
   "source": [
    "df.dtypes"
   ]
  },
  {
   "cell_type": "code",
   "execution_count": 129,
   "metadata": {
    "scrolled": false
   },
   "outputs": [
    {
     "data": {
      "text/html": [
       "<div>\n",
       "<style scoped>\n",
       "    .dataframe tbody tr th:only-of-type {\n",
       "        vertical-align: middle;\n",
       "    }\n",
       "\n",
       "    .dataframe tbody tr th {\n",
       "        vertical-align: top;\n",
       "    }\n",
       "\n",
       "    .dataframe thead th {\n",
       "        text-align: right;\n",
       "    }\n",
       "</style>\n",
       "<table border=\"1\" class=\"dataframe\">\n",
       "  <thead>\n",
       "    <tr style=\"text-align: right;\">\n",
       "      <th></th>\n",
       "      <th>Site</th>\n",
       "      <th>Model</th>\n",
       "      <th>Fuel</th>\n",
       "      <th>Km</th>\n",
       "      <th>Location</th>\n",
       "      <th>Year</th>\n",
       "      <th>Cost</th>\n",
       "    </tr>\n",
       "  </thead>\n",
       "  <tbody>\n",
       "    <tr>\n",
       "      <th>count</th>\n",
       "      <td>5441.000000</td>\n",
       "      <td>5441.000000</td>\n",
       "      <td>5441.000000</td>\n",
       "      <td>5441.000000</td>\n",
       "      <td>5441.000000</td>\n",
       "      <td>5441.000000</td>\n",
       "      <td>5.441000e+03</td>\n",
       "    </tr>\n",
       "    <tr>\n",
       "      <th>mean</th>\n",
       "      <td>0.237089</td>\n",
       "      <td>940.049256</td>\n",
       "      <td>6.935674</td>\n",
       "      <td>1430.824665</td>\n",
       "      <td>107.357103</td>\n",
       "      <td>2013.956809</td>\n",
       "      <td>5.327314e+05</td>\n",
       "    </tr>\n",
       "    <tr>\n",
       "      <th>std</th>\n",
       "      <td>0.553756</td>\n",
       "      <td>475.230098</td>\n",
       "      <td>1.480230</td>\n",
       "      <td>794.058881</td>\n",
       "      <td>25.151932</td>\n",
       "      <td>3.109900</td>\n",
       "      <td>5.738452e+05</td>\n",
       "    </tr>\n",
       "    <tr>\n",
       "      <th>min</th>\n",
       "      <td>0.000000</td>\n",
       "      <td>0.000000</td>\n",
       "      <td>0.000000</td>\n",
       "      <td>0.000000</td>\n",
       "      <td>0.000000</td>\n",
       "      <td>1991.000000</td>\n",
       "      <td>1.490000e+02</td>\n",
       "    </tr>\n",
       "    <tr>\n",
       "      <th>25%</th>\n",
       "      <td>0.000000</td>\n",
       "      <td>560.000000</td>\n",
       "      <td>6.000000</td>\n",
       "      <td>758.000000</td>\n",
       "      <td>115.000000</td>\n",
       "      <td>2012.000000</td>\n",
       "      <td>2.836990e+05</td>\n",
       "    </tr>\n",
       "    <tr>\n",
       "      <th>50%</th>\n",
       "      <td>0.000000</td>\n",
       "      <td>945.000000</td>\n",
       "      <td>8.000000</td>\n",
       "      <td>1467.000000</td>\n",
       "      <td>116.000000</td>\n",
       "      <td>2014.000000</td>\n",
       "      <td>3.911990e+05</td>\n",
       "    </tr>\n",
       "    <tr>\n",
       "      <th>75%</th>\n",
       "      <td>0.000000</td>\n",
       "      <td>1287.000000</td>\n",
       "      <td>8.000000</td>\n",
       "      <td>2116.000000</td>\n",
       "      <td>116.000000</td>\n",
       "      <td>2016.000000</td>\n",
       "      <td>6.000000e+05</td>\n",
       "    </tr>\n",
       "    <tr>\n",
       "      <th>max</th>\n",
       "      <td>2.000000</td>\n",
       "      <td>1799.000000</td>\n",
       "      <td>9.000000</td>\n",
       "      <td>2782.000000</td>\n",
       "      <td>117.000000</td>\n",
       "      <td>2021.000000</td>\n",
       "      <td>1.450000e+07</td>\n",
       "    </tr>\n",
       "  </tbody>\n",
       "</table>\n",
       "</div>"
      ],
      "text/plain": [
       "              Site        Model         Fuel           Km     Location  \\\n",
       "count  5441.000000  5441.000000  5441.000000  5441.000000  5441.000000   \n",
       "mean      0.237089   940.049256     6.935674  1430.824665   107.357103   \n",
       "std       0.553756   475.230098     1.480230   794.058881    25.151932   \n",
       "min       0.000000     0.000000     0.000000     0.000000     0.000000   \n",
       "25%       0.000000   560.000000     6.000000   758.000000   115.000000   \n",
       "50%       0.000000   945.000000     8.000000  1467.000000   116.000000   \n",
       "75%       0.000000  1287.000000     8.000000  2116.000000   116.000000   \n",
       "max       2.000000  1799.000000     9.000000  2782.000000   117.000000   \n",
       "\n",
       "              Year          Cost  \n",
       "count  5441.000000  5.441000e+03  \n",
       "mean   2013.956809  5.327314e+05  \n",
       "std       3.109900  5.738452e+05  \n",
       "min    1991.000000  1.490000e+02  \n",
       "25%    2012.000000  2.836990e+05  \n",
       "50%    2014.000000  3.911990e+05  \n",
       "75%    2016.000000  6.000000e+05  \n",
       "max    2021.000000  1.450000e+07  "
      ]
     },
     "execution_count": 129,
     "metadata": {},
     "output_type": "execute_result"
    }
   ],
   "source": [
    "df.describe()  #Calculates the data statistically of all columns"
   ]
  },
  {
   "cell_type": "markdown",
   "metadata": {},
   "source": [
    "# EDA"
   ]
  },
  {
   "cell_type": "markdown",
   "metadata": {},
   "source": [
    "# Univariate"
   ]
  },
  {
   "cell_type": "markdown",
   "metadata": {},
   "source": [
    "In this step we have to do the analysis of each column using univariate method. So for this I have used Count method to check the number of unique values present in that particular column and also some visualization libraries to understand our data more clearly.\n",
    "\n"
   ]
  },
  {
   "cell_type": "code",
   "execution_count": 130,
   "metadata": {},
   "outputs": [
    {
     "name": "stdout",
     "output_type": "stream",
     "text": [
      "0    4493\n",
      "1     606\n",
      "2     342\n",
      "Name: Site, dtype: int64\n"
     ]
    },
    {
     "data": {
      "text/plain": [
       "<matplotlib.axes._subplots.AxesSubplot at 0x29700790ee0>"
      ]
     },
     "execution_count": 130,
     "metadata": {},
     "output_type": "execute_result"
    },
    {
     "data": {
      "image/png": "[encoded data removed]",
      "text/plain": [
       "<Figure size 432x288 with 1 Axes>"
      ]
     },
     "metadata": {
      "needs_background": "light"
     },
     "output_type": "display_data"
    }
   ],
   "source": [
    "a=df['Site'].value_counts()   #check the values of each column \n",
    "print(a)\n",
    "sns.countplot(x = 'Site',data = df)"
   ]
  },
  {
   "cell_type": "code",
   "execution_count": 131,
   "metadata": {},
   "outputs": [
    {
     "name": "stdout",
     "output_type": "stream",
     "text": [
      "1244    135\n",
      "1207    127\n",
      "1304     99\n",
      "846      95\n",
      "864      90\n",
      "       ... \n",
      "1381      1\n",
      "1385      1\n",
      "1389      1\n",
      "1393      1\n",
      "1797      1\n",
      "Name: Model, Length: 1800, dtype: int64\n"
     ]
    }
   ],
   "source": [
    "a=df['Model'].value_counts()\n",
    "print(a)"
   ]
  },
  {
   "cell_type": "code",
   "execution_count": 132,
   "metadata": {},
   "outputs": [
    {
     "name": "stdout",
     "output_type": "stream",
     "text": [
      "8    2877\n",
      "6    2072\n",
      "2     171\n",
      "4     153\n",
      "9     143\n",
      "0       9\n",
      "1       8\n",
      "5       6\n",
      "7       1\n",
      "3       1\n",
      "Name: Fuel, dtype: int64\n"
     ]
    }
   ],
   "source": [
    "a=df['Fuel'].value_counts()\n",
    "print(a)"
   ]
  },
  {
   "cell_type": "code",
   "execution_count": 133,
   "metadata": {},
   "outputs": [
    {
     "name": "stdout",
     "output_type": "stream",
     "text": [
      "2363    52\n",
      "1855    41\n",
      "2116    37\n",
      "1559    36\n",
      "2599    35\n",
      "        ..\n",
      "111      1\n",
      "2472     1\n",
      "107      1\n",
      "2154     1\n",
      "2288     1\n",
      "Name: Km, Length: 2783, dtype: int64\n"
     ]
    }
   ],
   "source": [
    "a=df['Km'].value_counts()\n",
    "print(a)"
   ]
  },
  {
   "cell_type": "code",
   "execution_count": 134,
   "metadata": {},
   "outputs": [
    {
     "name": "stdout",
     "output_type": "stream",
     "text": [
      "116    2627\n",
      "117    1122\n",
      "114     465\n",
      "115     420\n",
      "113     141\n",
      "       ... \n",
      "38        2\n",
      "42        2\n",
      "46        2\n",
      "54        2\n",
      "0         2\n",
      "Name: Location, Length: 118, dtype: int64\n"
     ]
    }
   ],
   "source": [
    "a=df['Location'].value_counts()\n",
    "print(a)\n",
    "#sns.countplot(x = 'Location',data = df)"
   ]
  },
  {
   "cell_type": "code",
   "execution_count": 135,
   "metadata": {},
   "outputs": [
    {
     "name": "stdout",
     "output_type": "stream",
     "text": [
      "2015.0    640\n",
      "2014.0    625\n",
      "2012.0    621\n",
      "2013.0    580\n",
      "2016.0    564\n",
      "2017.0    509\n",
      "2011.0    415\n",
      "2010.0    382\n",
      "2018.0    377\n",
      "2019.0    254\n",
      "2009.0    186\n",
      "2008.0     95\n",
      "2020.0     85\n",
      "2007.0     34\n",
      "2006.0     24\n",
      "2021.0     15\n",
      "2005.0      9\n",
      "2003.0      8\n",
      "2004.0      7\n",
      "2000.0      4\n",
      "2001.0      2\n",
      "1999.0      2\n",
      "2002.0      2\n",
      "1991.0      1\n",
      "Name: Year, dtype: int64\n"
     ]
    }
   ],
   "source": [
    "a=df['Year'].value_counts()\n",
    "print(a)"
   ]
  },
  {
   "cell_type": "code",
   "execution_count": 136,
   "metadata": {},
   "outputs": [
    {
     "name": "stdout",
     "output_type": "stream",
     "text": [
      "525000.0    33\n",
      "350000.0    32\n",
      "325000.0    27\n",
      "650000.0    25\n",
      "500000.0    25\n",
      "            ..\n",
      "547599.0     1\n",
      "272399.0     1\n",
      "283399.0     1\n",
      "474099.0     1\n",
      "850199.0     1\n",
      "Name: Cost, Length: 2296, dtype: int64\n"
     ]
    }
   ],
   "source": [
    "a=df['Cost'].value_counts()\n",
    "print(a)"
   ]
  },
  {
   "cell_type": "markdown",
   "metadata": {},
   "source": [
    "# Bivariate"
   ]
  },
  {
   "cell_type": "markdown",
   "metadata": {},
   "source": [
    "Seaborn and Matplotlib are two visualization libraries that used to visualize graphically data. In Bivariate method we have taken two variable one is target variable (Cost) and other variable as all columns. In this way we have to visualize all variables with our target variable."
   ]
  },
  {
   "cell_type": "code",
   "execution_count": 137,
   "metadata": {},
   "outputs": [
    {
     "data": {
      "text/plain": [
       "<matplotlib.axes._subplots.AxesSubplot at 0x297035822b0>"
      ]
     },
     "execution_count": 137,
     "metadata": {},
     "output_type": "execute_result"
    },
    {
     "data": {
      "image/png": "[encoded data removed]",
      "text/plain": [
       "<Figure size 432x288 with 1 Axes>"
      ]
     },
     "metadata": {
      "needs_background": "light"
     },
     "output_type": "display_data"
    }
   ],
   "source": [
    "sns.scatterplot(x=df.Cost,y=df.Year)"
   ]
  },
  {
   "cell_type": "code",
   "execution_count": 138,
   "metadata": {
    "scrolled": true
   },
   "outputs": [
    {
     "data": {
      "text/plain": [
       "<matplotlib.axes._subplots.AxesSubplot at 0x2977cdf4670>"
      ]
     },
     "execution_count": 138,
     "metadata": {},
     "output_type": "execute_result"
    },
    {
     "data": {
      "image/png": "[encoded data removed]",
      "text/plain": [
       "<Figure size 432x288 with 1 Axes>"
      ]
     },
     "metadata": {
      "needs_background": "light"
     },
     "output_type": "display_data"
    }
   ],
   "source": [
    "sns.scatterplot(x=df.Cost,y=df.Km)"
   ]
  },
  {
   "cell_type": "code",
   "execution_count": 139,
   "metadata": {},
   "outputs": [
    {
     "data": {
      "image/png": "[encoded data removed]",
      "text/plain": [
       "<Figure size 432x288 with 1 Axes>"
      ]
     },
     "metadata": {
      "needs_background": "light"
     },
     "output_type": "display_data"
    }
   ],
   "source": [
    "sns.barplot(x='Fuel',y='Cost',data=df)\n",
    "plt.show()"
   ]
  },
  {
   "cell_type": "code",
   "execution_count": 140,
   "metadata": {},
   "outputs": [
    {
     "data": {
      "text/plain": [
       "<matplotlib.axes._subplots.AxesSubplot at 0x297002b9c40>"
      ]
     },
     "execution_count": 140,
     "metadata": {},
     "output_type": "execute_result"
    },
    {
     "data": {
      "image/png": "[encoded data removed]",
      "text/plain": [
       "<Figure size 432x288 with 1 Axes>"
      ]
     },
     "metadata": {
      "needs_background": "light"
     },
     "output_type": "display_data"
    }
   ],
   "source": [
    "sns.scatterplot(x=df.Cost,y=df.Model)"
   ]
  },
  {
   "cell_type": "code",
   "execution_count": 141,
   "metadata": {},
   "outputs": [
    {
     "data": {
      "text/plain": [
       "<matplotlib.axes._subplots.AxesSubplot at 0x29777d2cb50>"
      ]
     },
     "execution_count": 141,
     "metadata": {},
     "output_type": "execute_result"
    },
    {
     "data": {
      "image/png": "[encoded data removed]",
      "text/plain": [
       "<Figure size 432x288 with 1 Axes>"
      ]
     },
     "metadata": {
      "needs_background": "light"
     },
     "output_type": "display_data"
    }
   ],
   "source": [
    "sns.scatterplot(x=df.Cost,y=df.Location)"
   ]
  },
  {
   "cell_type": "code",
   "execution_count": 142,
   "metadata": {},
   "outputs": [
    {
     "data": {
      "image/png": "[encoded data removed]",
      "text/plain": [
       "<Figure size 432x288 with 1 Axes>"
      ]
     },
     "metadata": {
      "needs_background": "light"
     },
     "output_type": "display_data"
    }
   ],
   "source": [
    "sns.barplot(x='Site',y='Cost',data=df)\n",
    "plt.show()"
   ]
  },
  {
   "cell_type": "markdown",
   "metadata": {},
   "source": [
    "# Correlation between columns"
   ]
  },
  {
   "cell_type": "markdown",
   "metadata": {},
   "source": [
    "This above method is used to check the correlation between all columns. Heatmap method gives the graphical visualization from which we can easily understand the correlation."
   ]
  },
  {
   "cell_type": "code",
   "execution_count": 143,
   "metadata": {},
   "outputs": [
    {
     "data": {
      "text/html": [
       "<div>\n",
       "<style scoped>\n",
       "    .dataframe tbody tr th:only-of-type {\n",
       "        vertical-align: middle;\n",
       "    }\n",
       "\n",
       "    .dataframe tbody tr th {\n",
       "        vertical-align: top;\n",
       "    }\n",
       "\n",
       "    .dataframe thead th {\n",
       "        text-align: right;\n",
       "    }\n",
       "</style>\n",
       "<table border=\"1\" class=\"dataframe\">\n",
       "  <thead>\n",
       "    <tr style=\"text-align: right;\">\n",
       "      <th></th>\n",
       "      <th>Site</th>\n",
       "      <th>Model</th>\n",
       "      <th>Fuel</th>\n",
       "      <th>Km</th>\n",
       "      <th>Location</th>\n",
       "      <th>Year</th>\n",
       "      <th>Cost</th>\n",
       "    </tr>\n",
       "  </thead>\n",
       "  <tbody>\n",
       "    <tr>\n",
       "      <th>Site</th>\n",
       "      <td>1.000000</td>\n",
       "      <td>-0.023834</td>\n",
       "      <td>-0.616272</td>\n",
       "      <td>0.029453</td>\n",
       "      <td>-0.499358</td>\n",
       "      <td>-0.037283</td>\n",
       "      <td>0.148486</td>\n",
       "    </tr>\n",
       "    <tr>\n",
       "      <th>Model</th>\n",
       "      <td>-0.023834</td>\n",
       "      <td>1.000000</td>\n",
       "      <td>-0.125107</td>\n",
       "      <td>-0.008273</td>\n",
       "      <td>-0.001784</td>\n",
       "      <td>-0.017323</td>\n",
       "      <td>-0.002001</td>\n",
       "    </tr>\n",
       "    <tr>\n",
       "      <th>Fuel</th>\n",
       "      <td>-0.616272</td>\n",
       "      <td>-0.125107</td>\n",
       "      <td>1.000000</td>\n",
       "      <td>-0.055688</td>\n",
       "      <td>0.479374</td>\n",
       "      <td>0.061611</td>\n",
       "      <td>-0.161020</td>\n",
       "    </tr>\n",
       "    <tr>\n",
       "      <th>Km</th>\n",
       "      <td>0.029453</td>\n",
       "      <td>-0.008273</td>\n",
       "      <td>-0.055688</td>\n",
       "      <td>1.000000</td>\n",
       "      <td>-0.023764</td>\n",
       "      <td>-0.116502</td>\n",
       "      <td>-0.048238</td>\n",
       "    </tr>\n",
       "    <tr>\n",
       "      <th>Location</th>\n",
       "      <td>-0.499358</td>\n",
       "      <td>-0.001784</td>\n",
       "      <td>0.479374</td>\n",
       "      <td>-0.023764</td>\n",
       "      <td>1.000000</td>\n",
       "      <td>0.108188</td>\n",
       "      <td>-0.061853</td>\n",
       "    </tr>\n",
       "    <tr>\n",
       "      <th>Year</th>\n",
       "      <td>-0.037283</td>\n",
       "      <td>-0.017323</td>\n",
       "      <td>0.061611</td>\n",
       "      <td>-0.116502</td>\n",
       "      <td>0.108188</td>\n",
       "      <td>1.000000</td>\n",
       "      <td>0.263742</td>\n",
       "    </tr>\n",
       "    <tr>\n",
       "      <th>Cost</th>\n",
       "      <td>0.148486</td>\n",
       "      <td>-0.002001</td>\n",
       "      <td>-0.161020</td>\n",
       "      <td>-0.048238</td>\n",
       "      <td>-0.061853</td>\n",
       "      <td>0.263742</td>\n",
       "      <td>1.000000</td>\n",
       "    </tr>\n",
       "  </tbody>\n",
       "</table>\n",
       "</div>"
      ],
      "text/plain": [
       "              Site     Model      Fuel        Km  Location      Year      Cost\n",
       "Site      1.000000 -0.023834 -0.616272  0.029453 -0.499358 -0.037283  0.148486\n",
       "Model    -0.023834  1.000000 -0.125107 -0.008273 -0.001784 -0.017323 -0.002001\n",
       "Fuel     -0.616272 -0.125107  1.000000 -0.055688  0.479374  0.061611 -0.161020\n",
       "Km        0.029453 -0.008273 -0.055688  1.000000 -0.023764 -0.116502 -0.048238\n",
       "Location -0.499358 -0.001784  0.479374 -0.023764  1.000000  0.108188 -0.061853\n",
       "Year     -0.037283 -0.017323  0.061611 -0.116502  0.108188  1.000000  0.263742\n",
       "Cost      0.148486 -0.002001 -0.161020 -0.048238 -0.061853  0.263742  1.000000"
      ]
     },
     "execution_count": 143,
     "metadata": {},
     "output_type": "execute_result"
    }
   ],
   "source": [
    "df.corr()   #find the pairwise correlation of all columns in the dataframe"
   ]
  },
  {
   "cell_type": "code",
   "execution_count": 144,
   "metadata": {
    "scrolled": true
   },
   "outputs": [
    {
     "data": {
      "text/plain": [
       "<matplotlib.axes._subplots.AxesSubplot at 0x29703447580>"
      ]
     },
     "execution_count": 144,
     "metadata": {},
     "output_type": "execute_result"
    },
    {
     "data": {
      "image/png": "[encoded data removed]",
      "text/plain": [
       "<Figure size 720x360 with 2 Axes>"
      ]
     },
     "metadata": {
      "needs_background": "light"
     },
     "output_type": "display_data"
    }
   ],
   "source": [
    "#lets check the correlation using heatmap for better understanding\n",
    "plt.subplots(figsize=(10,5))\n",
    "sns.heatmap(df.corr(),linewidths=.1,linecolor='black', annot=True)"
   ]
  },
  {
   "cell_type": "markdown",
   "metadata": {},
   "source": [
    "Some columns are making good positive correlation with our target variable and some has negative correlation. So the variables that doesn’t make any good correlation with any variable so we to drop that column from the dataset."
   ]
  },
  {
   "cell_type": "markdown",
   "metadata": {},
   "source": [
    "# Checking outliers"
   ]
  },
  {
   "cell_type": "code",
   "execution_count": 145,
   "metadata": {},
   "outputs": [
    {
     "data": {
      "image/png": "[encoded data removed]",
      "text/plain": [
       "<Figure size 432x288 with 1 Axes>"
      ]
     },
     "metadata": {
      "needs_background": "light"
     },
     "output_type": "display_data"
    }
   ],
   "source": [
    "sns.boxplot(data=df[['Cost','Km']],orient='h',palette='Set2')\n",
    "plt.title('outliers')\n",
    "plt.show()"
   ]
  },
  {
   "cell_type": "code",
   "execution_count": 146,
   "metadata": {},
   "outputs": [
    {
     "data": {
      "image/png": "[encoded data removed]",
      "text/plain": [
       "<Figure size 432x288 with 1 Axes>"
      ]
     },
     "metadata": {
      "needs_background": "light"
     },
     "output_type": "display_data"
    }
   ],
   "source": [
    "sns.boxplot(data=df[['Model','Year']],orient='h',palette='Set2')\n",
    "plt.title('outliers')\n",
    "plt.show()"
   ]
  },
  {
   "cell_type": "code",
   "execution_count": 147,
   "metadata": {
    "scrolled": false
   },
   "outputs": [
    {
     "data": {
      "image/png": "[encoded data removed]",
      "text/plain": [
       "<Figure size 432x288 with 1 Axes>"
      ]
     },
     "metadata": {
      "needs_background": "light"
     },
     "output_type": "display_data"
    }
   ],
   "source": [
    "sns.boxplot(data=df[['Location','Fuel']],orient='h',palette='Set2')\n",
    "plt.title('outliers')\n",
    "plt.show()"
   ]
  },
  {
   "cell_type": "markdown",
   "metadata": {},
   "source": [
    "Outliers are present in our dataset. So we have to remove that outliers to get the proper results."
   ]
  },
  {
   "cell_type": "markdown",
   "metadata": {},
   "source": [
    "# Removing outliers"
   ]
  },
  {
   "cell_type": "code",
   "execution_count": 79,
   "metadata": {},
   "outputs": [],
   "source": [
    "import warnings\n",
    "warnings.filterwarnings('ignore')\n",
    "from scipy.stats import zscore\n",
    "import numpy as np\n",
    "z=np.abs(zscore(df))\n",
    "thresholds=3\n",
    "df_new=df[(z<3).all(axis=1)]"
   ]
  },
  {
   "cell_type": "code",
   "execution_count": 80,
   "metadata": {
    "scrolled": true
   },
   "outputs": [
    {
     "name": "stdout",
     "output_type": "stream",
     "text": [
      "[(5441, 7)] [(4884, 7)]\n"
     ]
    }
   ],
   "source": [
    "print([df.shape],[df_new.shape])"
   ]
  },
  {
   "cell_type": "code",
   "execution_count": 81,
   "metadata": {},
   "outputs": [
    {
     "name": "stdout",
     "output_type": "stream",
     "text": [
      "10.23708877044661\n"
     ]
    }
   ],
   "source": [
    "percent_loss=((557/5441)*100)\n",
    "print(percent_loss)"
   ]
  },
  {
   "cell_type": "code",
   "execution_count": 156,
   "metadata": {
    "scrolled": true
   },
   "outputs": [
    {
     "data": {
      "text/plain": [
       "Site        2.255747\n",
       "Model      -0.133437\n",
       "Fuel       -1.484504\n",
       "Km         -0.092628\n",
       "Location   -2.897501\n",
       "Year       -0.402159\n",
       "Cost        8.560393\n",
       "dtype: float64"
      ]
     },
     "execution_count": 156,
     "metadata": {},
     "output_type": "execute_result"
    }
   ],
   "source": [
    "#lets check the skewness of all columns\n",
    "df.skew()"
   ]
  },
  {
   "cell_type": "markdown",
   "metadata": {},
   "source": [
    "Percentage loss of our data is more than 5%, so we have to remove outliers. First we have to split our data in x,y variable to make the predictions.\n",
    "\n",
    "1. x variable should contain all columns except target variable.\n",
    "\n",
    "2. y variable should contain target variable i.e. Cost"
   ]
  },
  {
   "cell_type": "code",
   "execution_count": 48,
   "metadata": {},
   "outputs": [],
   "source": [
    "#lets split the data into x and y variable(input & output)\n",
    "x=df.drop(columns=[\"Cost\"])\n",
    "y=df[[\"Cost\"]] #this is our target variable"
   ]
  },
  {
   "cell_type": "code",
   "execution_count": 49,
   "metadata": {},
   "outputs": [],
   "source": [
    "from sklearn.preprocessing import power_transform\n",
    "x=power_transform(x,method='yeo-johnson')"
   ]
  },
  {
   "cell_type": "code",
   "execution_count": 50,
   "metadata": {},
   "outputs": [],
   "source": [
    "#Scaling is used to bring the dataset in common range\n",
    "from sklearn.preprocessing import StandardScaler\n",
    "sc=StandardScaler()\n",
    "scaledx=sc.fit_transform(x)"
   ]
  },
  {
   "cell_type": "markdown",
   "metadata": {},
   "source": [
    "StandardScaler is that it will transform your data such that its distribution will have a mean value 0 and standard deviation of 1. In case of multivariate data, this is done feature-wise (in other words independently for each column of the data)."
   ]
  },
  {
   "cell_type": "markdown",
   "metadata": {},
   "source": [
    "# Splitting the dataframe"
   ]
  },
  {
   "cell_type": "markdown",
   "metadata": {},
   "source": [
    "Now we have to split our data in training and testing form. And we have apply some machine learning modules.\n",
    "\n",
    "1.Our target variable is in linear form so we have to apply linear regression method.\n",
    "\n",
    "2.We can also apply other regression methods to check which machine learning model gives better accuracy."
   ]
  },
  {
   "cell_type": "code",
   "execution_count": 83,
   "metadata": {},
   "outputs": [
    {
     "name": "stdout",
     "output_type": "stream",
     "text": [
      "Best accuracy 58.11459638158256 on random_state 131\n"
     ]
    }
   ],
   "source": [
    "#finding best random state\n",
    "from sklearn.model_selection import train_test_split\n",
    "from sklearn.linear_model import LinearRegression\n",
    "from sklearn.model_selection import cross_val_score\n",
    "from sklearn.metrics import r2_score\n",
    "\n",
    "best_rstate=0\n",
    "accu=0\n",
    "for i in range(1,1000):\n",
    "    x_train,x_test,y_train,y_test=train_test_split(scaledx,y,test_size=.2,random_state=i)\n",
    "    mod=LinearRegression()\n",
    "    mod.fit(x_train,y_train)\n",
    "    y_pred=mod.predict(x_test)\n",
    "    tempaccu=r2_score(y_test,y_pred)\n",
    "    if tempaccu>accu:\n",
    "        accu=tempaccu\n",
    "        best_rstate=i\n",
    "        \n",
    "print(f'Best accuracy {accu*100} on random_state {best_rstate}') "
   ]
  },
  {
   "cell_type": "code",
   "execution_count": 88,
   "metadata": {},
   "outputs": [
    {
     "name": "stdout",
     "output_type": "stream",
     "text": [
      "Accuracy= 22.967994255082445 cvs= 22.91247008991739\n"
     ]
    }
   ],
   "source": [
    "from sklearn.ensemble import RandomForestRegressor\n",
    "rf=RandomForestRegressor()\n",
    "rf.fit(x_train,y_train)\n",
    "y_pred=rf.predict(x_test)\n",
    "r2s=r2_score(y_test,y_pred)\n",
    "cvs=cross_val_score(RandomForestRegressor(),x_train,y_train,cv=5).mean()\n",
    "print('Accuracy=',r2s*100,'cvs=',cvs*100)"
   ]
  },
  {
   "cell_type": "markdown",
   "metadata": {},
   "source": [
    "From above we can say that linear regression gives 58.11% accuracy and Randomforest regrssor gives 23% accuracy. So linear regression method works better for our model. "
   ]
  },
  {
   "cell_type": "markdown",
   "metadata": {},
   "source": [
    "# Model Saving"
   ]
  },
  {
   "cell_type": "markdown",
   "metadata": {},
   "source": [
    "We have to save our model using pickle method or joblib method."
   ]
  },
  {
   "cell_type": "code",
   "execution_count": 89,
   "metadata": {},
   "outputs": [],
   "source": [
    "import pickle\n",
    "filename='carprice.pkl'\n",
    "pickle.dump(mod,open(filename,'wb'))"
   ]
  },
  {
   "cell_type": "markdown",
   "metadata": {},
   "source": [
    "# Conclusion"
   ]
  },
  {
   "cell_type": "markdown",
   "metadata": {},
   "source": [
    "1.In the experimentation phase two different machine learning algorithms were employed for the proposed model development and their performances were evaluated on various parameters.\n",
    "\n",
    "2.From all above process we can say that whatever algorithms or method we used for prediction of our model all process with visualization is very beneficial. Using any visualization library it is easy for us to understand the all data.\n",
    "\n",
    "3.For this data Linear regression proves the best and others we have used also has good result but while using Linear regression with different random state, it also gives the more than 58% accuracy."
   ]
  },
  {
   "cell_type": "code",
   "execution_count": null,
   "metadata": {},
   "outputs": [],
   "source": []
  }
 ],
 "metadata": {
  "kernelspec": {
   "display_name": "Python 3",
   "language": "python",
   "name": "python3"
  },
  "language_info": {
   "codemirror_mode": {
    "name": "ipython",
    "version": 3
   },
   "file_extension": ".py",
   "mimetype": "text/x-python",
   "name": "python",
   "nbconvert_exporter": "python",
   "pygments_lexer": "ipython3",
   "version": "3.8.3"
  }
 },
 "nbformat": 4,
 "nbformat_minor": 4
}
