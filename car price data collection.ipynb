{
 "cells": [
  {
   "cell_type": "code",
   "execution_count": 1,
   "metadata": {},
   "outputs": [],
   "source": [
    "#lets import all required libraries\n",
    "import selenium\n",
    "import pandas as pd\n",
    "from selenium import webdriver"
   ]
  },
  {
   "cell_type": "code",
   "execution_count": 89,
   "metadata": {},
   "outputs": [],
   "source": [
    "#lets first connect to the web driver\n",
    "driver=webdriver.Chrome(r\"C://chromedriver.exe\")"
   ]
  },
  {
   "cell_type": "code",
   "execution_count": 90,
   "metadata": {},
   "outputs": [],
   "source": [
    "driver.get('https://www.olx.in/')\n",
    "\n",
    "url='https://www.olx.in/items/q-cars?isSearchCall=true'\n",
    "\n",
    "#lets open the webpage through web driver\n",
    "driver.get(url)"
   ]
  },
  {
   "cell_type": "code",
   "execution_count": 91,
   "metadata": {},
   "outputs": [],
   "source": [
    "price=[]\n",
    "km=[]\n",
    "model=[]\n",
    "location=[]\n",
    "date=[]"
   ]
  },
  {
   "cell_type": "code",
   "execution_count": 92,
   "metadata": {},
   "outputs": [
    {
     "data": {
      "text/plain": [
       "['₹ 1,66,467', '₹ 5,45,577', '₹ 2,60,000', '₹ 4,49,000']"
      ]
     },
     "execution_count": 92,
     "metadata": {},
     "output_type": "execute_result"
    }
   ],
   "source": [
    "cost=driver.find_elements_by_xpath(\"//span[@class='_89yzn']\")\n",
    "for i in cost:\n",
    "    title5=i.text\n",
    "    price.append(title5)\n",
    "price[0:4] "
   ]
  },
  {
   "cell_type": "code",
   "execution_count": 93,
   "metadata": {},
   "outputs": [
    {
     "data": {
      "text/plain": [
       "['2010 - 59,298 km',\n",
       " '2009 - 54,000 km',\n",
       " '2017 - 66,336 km',\n",
       " '2017 - 13,750 km']"
      ]
     },
     "execution_count": 93,
     "metadata": {},
     "output_type": "execute_result"
    }
   ],
   "source": [
    "kms=driver.find_elements_by_xpath(\"//span[@class='_2TVI3']\")\n",
    "for i in kms:\n",
    "    title=i.text\n",
    "    km.append(title)\n",
    "km[0:4]"
   ]
  },
  {
   "cell_type": "code",
   "execution_count": 94,
   "metadata": {},
   "outputs": [
    {
     "data": {
      "text/plain": [
       "['Maruti Suzuki Alto 800 LXI, 2010, Petrol',\n",
       " 'Honda Jazz 1.5 VX i DTEC, 2009',\n",
       " 'Datsun GO T, 2017, Petrol',\n",
       " 'Hyundai Grand i10 2017 Petrol 13750 Km Driven']"
      ]
     },
     "execution_count": 94,
     "metadata": {},
     "output_type": "execute_result"
    }
   ],
   "source": [
    "brand=driver.find_elements_by_xpath(\"//span[@class='_2tW1I']\")\n",
    "for i in brand:\n",
    "    title1=i.text\n",
    "    model.append(title1)\n",
    "model[0:4]"
   ]
  },
  {
   "cell_type": "code",
   "execution_count": 95,
   "metadata": {},
   "outputs": [
    {
     "data": {
      "text/plain": [
       "['ROHINI, DELHI',\n",
       " 'BARAH DEVI CHAURAHA, KANPUR',\n",
       " 'INFOCITY, AHMEDABAD',\n",
       " 'NEW PANVEL, NAVI MUMBAI']"
      ]
     },
     "execution_count": 95,
     "metadata": {},
     "output_type": "execute_result"
    }
   ],
   "source": [
    "loc=driver.find_elements_by_xpath(\"//span[@class='tjgMj']\")\n",
    "for i in loc:\n",
    "    title2=i.text\n",
    "    location.append(title2)\n",
    "location[0:4]"
   ]
  },
  {
   "cell_type": "code",
   "execution_count": 96,
   "metadata": {},
   "outputs": [
    {
     "name": "stdout",
     "output_type": "stream",
     "text": [
      "500 497 496 451\n"
     ]
    }
   ],
   "source": [
    "print(len(location),len(model),len(price),len(km))"
   ]
  },
  {
   "cell_type": "code",
   "execution_count": 97,
   "metadata": {},
   "outputs": [],
   "source": [
    "olx=pd.DataFrame({})\n",
    "olx['model']=model[0:451]\n",
    "olx['location']=location[0:451]\n",
    "olx['km']=km[0:451]\n",
    "olx['cost']=price[0:451]"
   ]
  },
  {
   "cell_type": "code",
   "execution_count": 98,
   "metadata": {},
   "outputs": [
    {
     "data": {
      "text/html": [
       "<div>\n",
       "<style scoped>\n",
       "    .dataframe tbody tr th:only-of-type {\n",
       "        vertical-align: middle;\n",
       "    }\n",
       "\n",
       "    .dataframe tbody tr th {\n",
       "        vertical-align: top;\n",
       "    }\n",
       "\n",
       "    .dataframe thead th {\n",
       "        text-align: right;\n",
       "    }\n",
       "</style>\n",
       "<table border=\"1\" class=\"dataframe\">\n",
       "  <thead>\n",
       "    <tr style=\"text-align: right;\">\n",
       "      <th></th>\n",
       "      <th>model</th>\n",
       "      <th>location</th>\n",
       "      <th>km</th>\n",
       "      <th>cost</th>\n",
       "    </tr>\n",
       "  </thead>\n",
       "  <tbody>\n",
       "    <tr>\n",
       "      <th>0</th>\n",
       "      <td>Maruti Suzuki Alto 800 LXI, 2010, Petrol</td>\n",
       "      <td>ROHINI, DELHI</td>\n",
       "      <td>2010 - 59,298 km</td>\n",
       "      <td>₹ 1,66,467</td>\n",
       "    </tr>\n",
       "    <tr>\n",
       "      <th>1</th>\n",
       "      <td>Honda Jazz 1.5 VX i DTEC, 2009</td>\n",
       "      <td>BARAH DEVI CHAURAHA, KANPUR</td>\n",
       "      <td>2009 - 54,000 km</td>\n",
       "      <td>₹ 5,45,577</td>\n",
       "    </tr>\n",
       "    <tr>\n",
       "      <th>2</th>\n",
       "      <td>Datsun GO T, 2017, Petrol</td>\n",
       "      <td>INFOCITY, AHMEDABAD</td>\n",
       "      <td>2017 - 66,336 km</td>\n",
       "      <td>₹ 2,60,000</td>\n",
       "    </tr>\n",
       "    <tr>\n",
       "      <th>3</th>\n",
       "      <td>Hyundai Grand i10 2017 Petrol 13750 Km Driven</td>\n",
       "      <td>NEW PANVEL, NAVI MUMBAI</td>\n",
       "      <td>2017 - 13,750 km</td>\n",
       "      <td>₹ 4,49,000</td>\n",
       "    </tr>\n",
       "    <tr>\n",
       "      <th>4</th>\n",
       "      <td>Hyundai Elite i20 sportz 2018 Petrol 25000 Km ...</td>\n",
       "      <td>PASCHIM VIHAR, DELHI</td>\n",
       "      <td>2018 - 25,000 km</td>\n",
       "      <td>₹ 5,90,000</td>\n",
       "    </tr>\n",
       "    <tr>\n",
       "      <th>...</th>\n",
       "      <td>...</td>\n",
       "      <td>...</td>\n",
       "      <td>...</td>\n",
       "      <td>...</td>\n",
       "    </tr>\n",
       "    <tr>\n",
       "      <th>446</th>\n",
       "      <td>Wedding vintage car</td>\n",
       "      <td>AYODHYA NAGAR, BERHMAPUR</td>\n",
       "      <td>2015 - 77,170 km</td>\n",
       "      <td>₹ 7,25,000</td>\n",
       "    </tr>\n",
       "    <tr>\n",
       "      <th>447</th>\n",
       "      <td>Wedding vintage car</td>\n",
       "      <td>AGRAWAL COLONY, AJMER</td>\n",
       "      <td>2014 - 43,000 km</td>\n",
       "      <td>₹ 7,25,000</td>\n",
       "    </tr>\n",
       "    <tr>\n",
       "      <th>448</th>\n",
       "      <td>Wedding vintage car</td>\n",
       "      <td>CHANOD COLONY, CHANOD</td>\n",
       "      <td>2014 - 58,000 km</td>\n",
       "      <td>₹ 7,14,000</td>\n",
       "    </tr>\n",
       "    <tr>\n",
       "      <th>449</th>\n",
       "      <td>Wedding vintage car</td>\n",
       "      <td>BHATTA DEV NAGAR, PATHSALA</td>\n",
       "      <td>2020 - 13,000 km</td>\n",
       "      <td>₹ 7,15,000</td>\n",
       "    </tr>\n",
       "    <tr>\n",
       "      <th>450</th>\n",
       "      <td>Wedding vintage car</td>\n",
       "      <td>GULISTAN COLONY, FATEHGARH</td>\n",
       "      <td>2014 - 72,000 km</td>\n",
       "      <td>₹ 15,00,000</td>\n",
       "    </tr>\n",
       "  </tbody>\n",
       "</table>\n",
       "<p>451 rows × 4 columns</p>\n",
       "</div>"
      ],
      "text/plain": [
       "                                                 model  \\\n",
       "0             Maruti Suzuki Alto 800 LXI, 2010, Petrol   \n",
       "1                       Honda Jazz 1.5 VX i DTEC, 2009   \n",
       "2                            Datsun GO T, 2017, Petrol   \n",
       "3        Hyundai Grand i10 2017 Petrol 13750 Km Driven   \n",
       "4    Hyundai Elite i20 sportz 2018 Petrol 25000 Km ...   \n",
       "..                                                 ...   \n",
       "446                                Wedding vintage car   \n",
       "447                                Wedding vintage car   \n",
       "448                                Wedding vintage car   \n",
       "449                                Wedding vintage car   \n",
       "450                                Wedding vintage car   \n",
       "\n",
       "                        location                km         cost  \n",
       "0                  ROHINI, DELHI  2010 - 59,298 km   ₹ 1,66,467  \n",
       "1    BARAH DEVI CHAURAHA, KANPUR  2009 - 54,000 km   ₹ 5,45,577  \n",
       "2            INFOCITY, AHMEDABAD  2017 - 66,336 km   ₹ 2,60,000  \n",
       "3        NEW PANVEL, NAVI MUMBAI  2017 - 13,750 km   ₹ 4,49,000  \n",
       "4           PASCHIM VIHAR, DELHI  2018 - 25,000 km   ₹ 5,90,000  \n",
       "..                           ...               ...          ...  \n",
       "446     AYODHYA NAGAR, BERHMAPUR  2015 - 77,170 km   ₹ 7,25,000  \n",
       "447        AGRAWAL COLONY, AJMER  2014 - 43,000 km   ₹ 7,25,000  \n",
       "448        CHANOD COLONY, CHANOD  2014 - 58,000 km   ₹ 7,14,000  \n",
       "449   BHATTA DEV NAGAR, PATHSALA  2020 - 13,000 km   ₹ 7,15,000  \n",
       "450   GULISTAN COLONY, FATEHGARH  2014 - 72,000 km  ₹ 15,00,000  \n",
       "\n",
       "[451 rows x 4 columns]"
      ]
     },
     "execution_count": 98,
     "metadata": {},
     "output_type": "execute_result"
    }
   ],
   "source": [
    "olx"
   ]
  },
  {
   "cell_type": "code",
   "execution_count": 101,
   "metadata": {},
   "outputs": [],
   "source": [
    "olx.to_csv(\"car11.csv\")"
   ]
  },
  {
   "cell_type": "code",
   "execution_count": 46,
   "metadata": {},
   "outputs": [],
   "source": [
    "#lets first connect to the web driver\n",
    "driver1=webdriver.Chrome(r\"C://chromedriver.exe\")"
   ]
  },
  {
   "cell_type": "code",
   "execution_count": 47,
   "metadata": {},
   "outputs": [],
   "source": [
    "driver1.get('https://www.cars24.com/')\n",
    "\n",
    "url='https://www.cars24.com/buy-used-car?sort=P&storeCityId=2&pinId=110001'\n",
    "\n",
    "#lets open the webpage through web driver\n",
    "driver1.get(url)"
   ]
  },
  {
   "cell_type": "code",
   "execution_count": 48,
   "metadata": {},
   "outputs": [],
   "source": [
    "price1=[]\n",
    "km1=[]\n",
    "model1=[]\n",
    "location1=[]\n",
    "date1=[]"
   ]
  },
  {
   "cell_type": "code",
   "execution_count": 49,
   "metadata": {},
   "outputs": [
    {
     "data": {
      "text/plain": [
       "['₹ 3,89,799', '₹ 4,68,899', '₹ 3,09,499', '₹ 4,52,899']"
      ]
     },
     "execution_count": 49,
     "metadata": {},
     "output_type": "execute_result"
    }
   ],
   "source": [
    "cost=driver1.find_elements_by_xpath(\"//h3[@class='_6KkG6']\")\n",
    "for i in cost:\n",
    "    title5=i.text\n",
    "    price1.append(title5)\n",
    "price1[0:4] "
   ]
  },
  {
   "cell_type": "code",
   "execution_count": 50,
   "metadata": {},
   "outputs": [
    {
     "data": {
      "text/plain": [
       "['23,037kmPetrol2nd Owner',\n",
       " '12,848kmPetrol1st Owner',\n",
       " '8,501kmPetrol1st Owner',\n",
       " '19,994kmPetrol2nd Owner']"
      ]
     },
     "execution_count": 50,
     "metadata": {},
     "output_type": "execute_result"
    }
   ],
   "source": [
    "kms=driver1.find_elements_by_xpath(\"//div[@class='_Ecri']\")\n",
    "for i in kms:\n",
    "    title=i.text\n",
    "    km1.append(title)\n",
    "km1[0:4]"
   ]
  },
  {
   "cell_type": "code",
   "execution_count": 51,
   "metadata": {},
   "outputs": [
    {
     "data": {
      "text/plain": [
       "['2015 Honda Brio 1.2 VX AT I VTEC',\n",
       " '2017 Maruti Swift VXI',\n",
       " '2017 Maruti Alto 800 LXI',\n",
       " '2017 Hyundai Grand i10 Sportz(O) 1.2 MT']"
      ]
     },
     "execution_count": 51,
     "metadata": {},
     "output_type": "execute_result"
    }
   ],
   "source": [
    "brand=driver1.find_elements_by_xpath(\"//h2[@class='_3ENhq']\")\n",
    "for i in brand:\n",
    "    title1=i.text\n",
    "    model1.append(title1)\n",
    "model1[0:4]"
   ]
  },
  {
   "cell_type": "code",
   "execution_count": 52,
   "metadata": {},
   "outputs": [
    {
     "data": {
      "text/plain": [
       "['New Delhi']"
      ]
     },
     "execution_count": 52,
     "metadata": {},
     "output_type": "execute_result"
    }
   ],
   "source": [
    "loc=driver1.find_elements_by_xpath(\"//p[@class='_1OR7d']\")\n",
    "for i in loc:\n",
    "    title2=i.text\n",
    "    location1.append(title2)\n",
    "location1[0:4]"
   ]
  },
  {
   "cell_type": "code",
   "execution_count": 53,
   "metadata": {},
   "outputs": [
    {
     "name": "stdout",
     "output_type": "stream",
     "text": [
      "1329 420 1329\n"
     ]
    }
   ],
   "source": [
    "print(len(model1),len(price1),len(km1))"
   ]
  },
  {
   "cell_type": "code",
   "execution_count": 54,
   "metadata": {},
   "outputs": [],
   "source": [
    "cars24=pd.DataFrame({})\n",
    "cars24['model']=model1[0:420]\n",
    "cars24['km']=km1[0:420]\n",
    "cars24['cost']=price1[0:420]"
   ]
  },
  {
   "cell_type": "code",
   "execution_count": 55,
   "metadata": {},
   "outputs": [
    {
     "data": {
      "text/html": [
       "<div>\n",
       "<style scoped>\n",
       "    .dataframe tbody tr th:only-of-type {\n",
       "        vertical-align: middle;\n",
       "    }\n",
       "\n",
       "    .dataframe tbody tr th {\n",
       "        vertical-align: top;\n",
       "    }\n",
       "\n",
       "    .dataframe thead th {\n",
       "        text-align: right;\n",
       "    }\n",
       "</style>\n",
       "<table border=\"1\" class=\"dataframe\">\n",
       "  <thead>\n",
       "    <tr style=\"text-align: right;\">\n",
       "      <th></th>\n",
       "      <th>model</th>\n",
       "      <th>km</th>\n",
       "      <th>cost</th>\n",
       "    </tr>\n",
       "  </thead>\n",
       "  <tbody>\n",
       "    <tr>\n",
       "      <th>0</th>\n",
       "      <td>2015 Honda Brio 1.2 VX AT I VTEC</td>\n",
       "      <td>23,037kmPetrol2nd Owner</td>\n",
       "      <td>₹ 3,89,799</td>\n",
       "    </tr>\n",
       "    <tr>\n",
       "      <th>1</th>\n",
       "      <td>2017 Maruti Swift VXI</td>\n",
       "      <td>12,848kmPetrol1st Owner</td>\n",
       "      <td>₹ 4,68,899</td>\n",
       "    </tr>\n",
       "    <tr>\n",
       "      <th>2</th>\n",
       "      <td>2017 Maruti Alto 800 LXI</td>\n",
       "      <td>8,501kmPetrol1st Owner</td>\n",
       "      <td>₹ 3,09,499</td>\n",
       "    </tr>\n",
       "    <tr>\n",
       "      <th>3</th>\n",
       "      <td>2017 Hyundai Grand i10 Sportz(O) 1.2 MT</td>\n",
       "      <td>19,994kmPetrol2nd Owner</td>\n",
       "      <td>₹ 4,52,899</td>\n",
       "    </tr>\n",
       "    <tr>\n",
       "      <th>4</th>\n",
       "      <td>2015 Maruti Alto K10 LXI</td>\n",
       "      <td>10,957kmPetrol1st Owner</td>\n",
       "      <td>₹ 3,02,099</td>\n",
       "    </tr>\n",
       "    <tr>\n",
       "      <th>...</th>\n",
       "      <td>...</td>\n",
       "      <td>...</td>\n",
       "      <td>...</td>\n",
       "    </tr>\n",
       "    <tr>\n",
       "      <th>415</th>\n",
       "      <td>2014 Maruti Swift VXI</td>\n",
       "      <td>91,931kmPetrol1st Owner</td>\n",
       "      <td>₹ 3,66,399</td>\n",
       "    </tr>\n",
       "    <tr>\n",
       "      <th>416</th>\n",
       "      <td>2013 Toyota Innova 2.5 GX 7 STR BS IV</td>\n",
       "      <td>96,015kmDiesel1st Owner</td>\n",
       "      <td>₹ 6,11,599</td>\n",
       "    </tr>\n",
       "    <tr>\n",
       "      <th>417</th>\n",
       "      <td>2017 Ford Ecosport 1.5 TDCI TITANIUM PLUS</td>\n",
       "      <td>79,368kmDiesel1st Owner</td>\n",
       "      <td>₹ 6,66,299</td>\n",
       "    </tr>\n",
       "    <tr>\n",
       "      <th>418</th>\n",
       "      <td>2010 Honda Jazz 1.2 BASE I VTEC</td>\n",
       "      <td>1,07,333kmPetrol2nd Owner</td>\n",
       "      <td>₹ 2,35,099</td>\n",
       "    </tr>\n",
       "    <tr>\n",
       "      <th>419</th>\n",
       "      <td>2011 Maruti Ritz VXI BS IV</td>\n",
       "      <td>1,15,774kmPetrol1st Owner</td>\n",
       "      <td>₹ 2,88,199</td>\n",
       "    </tr>\n",
       "  </tbody>\n",
       "</table>\n",
       "<p>420 rows × 3 columns</p>\n",
       "</div>"
      ],
      "text/plain": [
       "                                         model                         km  \\\n",
       "0             2015 Honda Brio 1.2 VX AT I VTEC    23,037kmPetrol2nd Owner   \n",
       "1                        2017 Maruti Swift VXI    12,848kmPetrol1st Owner   \n",
       "2                     2017 Maruti Alto 800 LXI     8,501kmPetrol1st Owner   \n",
       "3      2017 Hyundai Grand i10 Sportz(O) 1.2 MT    19,994kmPetrol2nd Owner   \n",
       "4                     2015 Maruti Alto K10 LXI    10,957kmPetrol1st Owner   \n",
       "..                                         ...                        ...   \n",
       "415                      2014 Maruti Swift VXI    91,931kmPetrol1st Owner   \n",
       "416      2013 Toyota Innova 2.5 GX 7 STR BS IV    96,015kmDiesel1st Owner   \n",
       "417  2017 Ford Ecosport 1.5 TDCI TITANIUM PLUS    79,368kmDiesel1st Owner   \n",
       "418            2010 Honda Jazz 1.2 BASE I VTEC  1,07,333kmPetrol2nd Owner   \n",
       "419                 2011 Maruti Ritz VXI BS IV  1,15,774kmPetrol1st Owner   \n",
       "\n",
       "           cost  \n",
       "0    ₹ 3,89,799  \n",
       "1    ₹ 4,68,899  \n",
       "2    ₹ 3,09,499  \n",
       "3    ₹ 4,52,899  \n",
       "4    ₹ 3,02,099  \n",
       "..          ...  \n",
       "415  ₹ 3,66,399  \n",
       "416  ₹ 6,11,599  \n",
       "417  ₹ 6,66,299  \n",
       "418  ₹ 2,35,099  \n",
       "419  ₹ 2,88,199  \n",
       "\n",
       "[420 rows x 3 columns]"
      ]
     },
     "execution_count": 55,
     "metadata": {},
     "output_type": "execute_result"
    }
   ],
   "source": [
    "cars24"
   ]
  },
  {
   "cell_type": "code",
   "execution_count": 57,
   "metadata": {},
   "outputs": [],
   "source": [
    "cars24.to_csv(\"car2.csv\")"
   ]
  },
  {
   "cell_type": "code",
   "execution_count": 58,
   "metadata": {},
   "outputs": [],
   "source": [
    "#lets first connect to the web driver\n",
    "driver2=webdriver.Chrome(r\"C://chromedriver.exe\")"
   ]
  },
  {
   "cell_type": "code",
   "execution_count": 59,
   "metadata": {},
   "outputs": [],
   "source": [
    "driver2.get('https://www.cars24.com/')\n",
    "\n",
    "url='https://www.cars24.com/buy-used-car?sort=P&storeCityId=134&pinId=201301'\n",
    "\n",
    "#lets open the webpage through web driver\n",
    "driver2.get(url)"
   ]
  },
  {
   "cell_type": "code",
   "execution_count": 60,
   "metadata": {},
   "outputs": [],
   "source": [
    "price1=[]\n",
    "km1=[]\n",
    "model1=[]\n",
    "location1=[]\n",
    "date1=[]"
   ]
  },
  {
   "cell_type": "code",
   "execution_count": 62,
   "metadata": {},
   "outputs": [
    {
     "data": {
      "text/plain": [
       "['₹ 3,89,799', '₹ 3,09,299', '₹ 4,68,899', '₹ 3,09,499']"
      ]
     },
     "execution_count": 62,
     "metadata": {},
     "output_type": "execute_result"
    }
   ],
   "source": [
    "cost=driver2.find_elements_by_xpath(\"//h3[@class='_6KkG6']\")\n",
    "for i in cost:\n",
    "    title5=i.text\n",
    "    price1.append(title5)\n",
    "price1[0:4] "
   ]
  },
  {
   "cell_type": "code",
   "execution_count": 63,
   "metadata": {},
   "outputs": [
    {
     "data": {
      "text/plain": [
       "['23,037kmPetrol2nd Owner',\n",
       " '9,527kmPetrol1st Owner',\n",
       " '12,848kmPetrol1st Owner',\n",
       " '8,501kmPetrol1st Owner']"
      ]
     },
     "execution_count": 63,
     "metadata": {},
     "output_type": "execute_result"
    }
   ],
   "source": [
    "kms=driver2.find_elements_by_xpath(\"//div[@class='_Ecri']\")\n",
    "for i in kms:\n",
    "    title=i.text\n",
    "    km1.append(title)\n",
    "km1[0:4]"
   ]
  },
  {
   "cell_type": "code",
   "execution_count": 64,
   "metadata": {},
   "outputs": [
    {
     "data": {
      "text/plain": [
       "['2015 Honda Brio 1.2 VX AT I VTEC',\n",
       " '2017 Maruti Alto 800 LXI',\n",
       " '2017 Maruti Swift VXI',\n",
       " '2017 Maruti Alto 800 LXI']"
      ]
     },
     "execution_count": 64,
     "metadata": {},
     "output_type": "execute_result"
    }
   ],
   "source": [
    "brand=driver2.find_elements_by_xpath(\"//h2[@class='_3ENhq']\")\n",
    "for i in brand:\n",
    "    title1=i.text\n",
    "    model1.append(title1)\n",
    "model1[0:4]"
   ]
  },
  {
   "cell_type": "code",
   "execution_count": 65,
   "metadata": {},
   "outputs": [
    {
     "data": {
      "text/plain": [
       "['Noida']"
      ]
     },
     "execution_count": 65,
     "metadata": {},
     "output_type": "execute_result"
    }
   ],
   "source": [
    "loc=driver2.find_elements_by_xpath(\"//p[@class='_1OR7d']\")\n",
    "for i in loc:\n",
    "    title2=i.text\n",
    "    location1.append(title2)\n",
    "location1[0:4]"
   ]
  },
  {
   "cell_type": "code",
   "execution_count": 66,
   "metadata": {},
   "outputs": [
    {
     "name": "stdout",
     "output_type": "stream",
     "text": [
      "1122 1122 1122\n"
     ]
    }
   ],
   "source": [
    "print(len(model1),len(price1),len(km1))"
   ]
  },
  {
   "cell_type": "code",
   "execution_count": 67,
   "metadata": {},
   "outputs": [],
   "source": [
    "cars24_1=pd.DataFrame({})\n",
    "cars24_1['model']=model1[0:1122]\n",
    "cars24_1['km']=km1[0:1122]\n",
    "cars24_1['cost']=price1[0:1122]"
   ]
  },
  {
   "cell_type": "code",
   "execution_count": 68,
   "metadata": {},
   "outputs": [
    {
     "data": {
      "text/html": [
       "<div>\n",
       "<style scoped>\n",
       "    .dataframe tbody tr th:only-of-type {\n",
       "        vertical-align: middle;\n",
       "    }\n",
       "\n",
       "    .dataframe tbody tr th {\n",
       "        vertical-align: top;\n",
       "    }\n",
       "\n",
       "    .dataframe thead th {\n",
       "        text-align: right;\n",
       "    }\n",
       "</style>\n",
       "<table border=\"1\" class=\"dataframe\">\n",
       "  <thead>\n",
       "    <tr style=\"text-align: right;\">\n",
       "      <th></th>\n",
       "      <th>model</th>\n",
       "      <th>km</th>\n",
       "      <th>cost</th>\n",
       "    </tr>\n",
       "  </thead>\n",
       "  <tbody>\n",
       "    <tr>\n",
       "      <th>0</th>\n",
       "      <td>2015 Honda Brio 1.2 VX AT I VTEC</td>\n",
       "      <td>23,037kmPetrol2nd Owner</td>\n",
       "      <td>₹ 3,89,799</td>\n",
       "    </tr>\n",
       "    <tr>\n",
       "      <th>1</th>\n",
       "      <td>2017 Maruti Alto 800 LXI</td>\n",
       "      <td>9,527kmPetrol1st Owner</td>\n",
       "      <td>₹ 3,09,299</td>\n",
       "    </tr>\n",
       "    <tr>\n",
       "      <th>2</th>\n",
       "      <td>2017 Maruti Swift VXI</td>\n",
       "      <td>12,848kmPetrol1st Owner</td>\n",
       "      <td>₹ 4,68,899</td>\n",
       "    </tr>\n",
       "    <tr>\n",
       "      <th>3</th>\n",
       "      <td>2017 Maruti Alto 800 LXI</td>\n",
       "      <td>8,501kmPetrol1st Owner</td>\n",
       "      <td>₹ 3,09,499</td>\n",
       "    </tr>\n",
       "    <tr>\n",
       "      <th>4</th>\n",
       "      <td>2017 Hyundai Grand i10 Sportz(O) 1.2 MT</td>\n",
       "      <td>19,994kmPetrol2nd Owner</td>\n",
       "      <td>₹ 4,52,899</td>\n",
       "    </tr>\n",
       "    <tr>\n",
       "      <th>...</th>\n",
       "      <td>...</td>\n",
       "      <td>...</td>\n",
       "      <td>...</td>\n",
       "    </tr>\n",
       "    <tr>\n",
       "      <th>1117</th>\n",
       "      <td>2012 Mahindra XUV500 W8 FWD</td>\n",
       "      <td>59,608kmDiesel1st Owner</td>\n",
       "      <td>₹ 4,15,699</td>\n",
       "    </tr>\n",
       "    <tr>\n",
       "      <th>1118</th>\n",
       "      <td>2018 Mahindra Thar CRDE 4X4 BS IV</td>\n",
       "      <td>17,188kmDiesel1st Owner</td>\n",
       "      <td>₹ 7,56,799</td>\n",
       "    </tr>\n",
       "    <tr>\n",
       "      <th>1119</th>\n",
       "      <td>2017 Hyundai Creta 1.4 E PLUS CRDI</td>\n",
       "      <td>63,228kmDiesel1st Owner</td>\n",
       "      <td>₹ 7,86,899</td>\n",
       "    </tr>\n",
       "    <tr>\n",
       "      <th>1120</th>\n",
       "      <td>2015 Maruti Alto K10 VXI</td>\n",
       "      <td>90,530kmPetrol1st Owner</td>\n",
       "      <td>₹ 2,95,199</td>\n",
       "    </tr>\n",
       "    <tr>\n",
       "      <th>1121</th>\n",
       "      <td>2012 Maruti Ertiga ZDI</td>\n",
       "      <td>1,20,093kmDiesel2nd Owner</td>\n",
       "      <td>₹ 3,64,299</td>\n",
       "    </tr>\n",
       "  </tbody>\n",
       "</table>\n",
       "<p>1122 rows × 3 columns</p>\n",
       "</div>"
      ],
      "text/plain": [
       "                                        model                         km  \\\n",
       "0            2015 Honda Brio 1.2 VX AT I VTEC    23,037kmPetrol2nd Owner   \n",
       "1                    2017 Maruti Alto 800 LXI     9,527kmPetrol1st Owner   \n",
       "2                       2017 Maruti Swift VXI    12,848kmPetrol1st Owner   \n",
       "3                    2017 Maruti Alto 800 LXI     8,501kmPetrol1st Owner   \n",
       "4     2017 Hyundai Grand i10 Sportz(O) 1.2 MT    19,994kmPetrol2nd Owner   \n",
       "...                                       ...                        ...   \n",
       "1117              2012 Mahindra XUV500 W8 FWD    59,608kmDiesel1st Owner   \n",
       "1118        2018 Mahindra Thar CRDE 4X4 BS IV    17,188kmDiesel1st Owner   \n",
       "1119       2017 Hyundai Creta 1.4 E PLUS CRDI    63,228kmDiesel1st Owner   \n",
       "1120                 2015 Maruti Alto K10 VXI    90,530kmPetrol1st Owner   \n",
       "1121                   2012 Maruti Ertiga ZDI  1,20,093kmDiesel2nd Owner   \n",
       "\n",
       "            cost  \n",
       "0     ₹ 3,89,799  \n",
       "1     ₹ 3,09,299  \n",
       "2     ₹ 4,68,899  \n",
       "3     ₹ 3,09,499  \n",
       "4     ₹ 4,52,899  \n",
       "...          ...  \n",
       "1117  ₹ 4,15,699  \n",
       "1118  ₹ 7,56,799  \n",
       "1119  ₹ 7,86,899  \n",
       "1120  ₹ 2,95,199  \n",
       "1121  ₹ 3,64,299  \n",
       "\n",
       "[1122 rows x 3 columns]"
      ]
     },
     "execution_count": 68,
     "metadata": {},
     "output_type": "execute_result"
    }
   ],
   "source": [
    "cars24_1"
   ]
  },
  {
   "cell_type": "code",
   "execution_count": 69,
   "metadata": {},
   "outputs": [],
   "source": [
    "cars24_1.to_csv(\"car3.csv\")"
   ]
  },
  {
   "cell_type": "code",
   "execution_count": 70,
   "metadata": {},
   "outputs": [],
   "source": [
    "#lets first connect to the web driver\n",
    "driver3=webdriver.Chrome(r\"C://chromedriver.exe\")"
   ]
  },
  {
   "cell_type": "code",
   "execution_count": 71,
   "metadata": {},
   "outputs": [],
   "source": [
    "driver3.get('https://www.cars24.com/')\n",
    "\n",
    "url='https://www.cars24.com/buy-used-cars-mumbai/?itm_source=Cars24Website&itm_medium=sticky_header'\n",
    "\n",
    "#lets open the webpage through web driver\n",
    "driver3.get(url)"
   ]
  },
  {
   "cell_type": "code",
   "execution_count": 72,
   "metadata": {},
   "outputs": [],
   "source": [
    "price1=[]\n",
    "km1=[]\n",
    "model1=[]\n",
    "location1=[]\n",
    "date1=[]"
   ]
  },
  {
   "cell_type": "code",
   "execution_count": 73,
   "metadata": {},
   "outputs": [
    {
     "data": {
      "text/plain": [
       "['₹ 2,82,599', '₹ 3,22,699', '₹ 3,21,499', '₹ 3,08,599']"
      ]
     },
     "execution_count": 73,
     "metadata": {},
     "output_type": "execute_result"
    }
   ],
   "source": [
    "cost=driver3.find_elements_by_xpath(\"//h3[@class='_6KkG6']\")\n",
    "for i in cost:\n",
    "    title5=i.text\n",
    "    price1.append(title5)\n",
    "price1[0:4] "
   ]
  },
  {
   "cell_type": "code",
   "execution_count": 74,
   "metadata": {},
   "outputs": [
    {
     "data": {
      "text/plain": [
       "['8,322kmPetrol1st Owner',\n",
       " '9,296kmPetrol1st Owner',\n",
       " '36,791kmPetrol2nd Owner',\n",
       " '13,567kmPetrol3rd Owner']"
      ]
     },
     "execution_count": 74,
     "metadata": {},
     "output_type": "execute_result"
    }
   ],
   "source": [
    "kms=driver3.find_elements_by_xpath(\"//div[@class='_Ecri']\")\n",
    "for i in kms:\n",
    "    title=i.text\n",
    "    km1.append(title)\n",
    "km1[0:4]"
   ]
  },
  {
   "cell_type": "code",
   "execution_count": 75,
   "metadata": {},
   "outputs": [
    {
     "data": {
      "text/plain": [
       "['2015 Maruti Alto 800 VXI',\n",
       " '2014 Maruti Wagon R Stingray VXI',\n",
       " '2011 Hyundai i20 SPORTZ 1.2 O',\n",
       " '2012 Honda Brio 1.2 S MT I VTEC']"
      ]
     },
     "execution_count": 75,
     "metadata": {},
     "output_type": "execute_result"
    }
   ],
   "source": [
    "brand=driver3.find_elements_by_xpath(\"//h2[@class='_3ENhq']\")\n",
    "for i in brand:\n",
    "    title1=i.text\n",
    "    model1.append(title1)\n",
    "model1[0:4]"
   ]
  },
  {
   "cell_type": "code",
   "execution_count": 76,
   "metadata": {},
   "outputs": [
    {
     "data": {
      "text/plain": [
       "['Mumbai']"
      ]
     },
     "execution_count": 76,
     "metadata": {},
     "output_type": "execute_result"
    }
   ],
   "source": [
    "loc=driver3.find_elements_by_xpath(\"//p[@class='_1OR7d']\")\n",
    "for i in loc:\n",
    "    title2=i.text\n",
    "    location1.append(title2)\n",
    "location1[0:4]"
   ]
  },
  {
   "cell_type": "code",
   "execution_count": 77,
   "metadata": {},
   "outputs": [
    {
     "name": "stdout",
     "output_type": "stream",
     "text": [
      "1314 1314 1314\n"
     ]
    }
   ],
   "source": [
    "print(len(model1),len(price1),len(km1))"
   ]
  },
  {
   "cell_type": "code",
   "execution_count": 78,
   "metadata": {},
   "outputs": [],
   "source": [
    "cars24_2=pd.DataFrame({})\n",
    "cars24_2['model']=model1[0:1314]\n",
    "cars24_2['km']=km1[0:1314]\n",
    "cars24_2['cost']=price1[0:1314]"
   ]
  },
  {
   "cell_type": "code",
   "execution_count": 79,
   "metadata": {},
   "outputs": [
    {
     "data": {
      "text/html": [
       "<div>\n",
       "<style scoped>\n",
       "    .dataframe tbody tr th:only-of-type {\n",
       "        vertical-align: middle;\n",
       "    }\n",
       "\n",
       "    .dataframe tbody tr th {\n",
       "        vertical-align: top;\n",
       "    }\n",
       "\n",
       "    .dataframe thead th {\n",
       "        text-align: right;\n",
       "    }\n",
       "</style>\n",
       "<table border=\"1\" class=\"dataframe\">\n",
       "  <thead>\n",
       "    <tr style=\"text-align: right;\">\n",
       "      <th></th>\n",
       "      <th>model</th>\n",
       "      <th>km</th>\n",
       "      <th>cost</th>\n",
       "    </tr>\n",
       "  </thead>\n",
       "  <tbody>\n",
       "    <tr>\n",
       "      <th>0</th>\n",
       "      <td>2015 Maruti Alto 800 VXI</td>\n",
       "      <td>8,322kmPetrol1st Owner</td>\n",
       "      <td>₹ 2,82,599</td>\n",
       "    </tr>\n",
       "    <tr>\n",
       "      <th>1</th>\n",
       "      <td>2014 Maruti Wagon R Stingray VXI</td>\n",
       "      <td>9,296kmPetrol1st Owner</td>\n",
       "      <td>₹ 3,22,699</td>\n",
       "    </tr>\n",
       "    <tr>\n",
       "      <th>2</th>\n",
       "      <td>2011 Hyundai i20 SPORTZ 1.2 O</td>\n",
       "      <td>36,791kmPetrol2nd Owner</td>\n",
       "      <td>₹ 3,21,499</td>\n",
       "    </tr>\n",
       "    <tr>\n",
       "      <th>3</th>\n",
       "      <td>2012 Honda Brio 1.2 S MT I VTEC</td>\n",
       "      <td>13,567kmPetrol3rd Owner</td>\n",
       "      <td>₹ 3,08,599</td>\n",
       "    </tr>\n",
       "    <tr>\n",
       "      <th>4</th>\n",
       "      <td>2011 Maruti Wagon R VXI</td>\n",
       "      <td>26,689kmPetrol1st Owner</td>\n",
       "      <td>₹ 3,06,999</td>\n",
       "    </tr>\n",
       "    <tr>\n",
       "      <th>...</th>\n",
       "      <td>...</td>\n",
       "      <td>...</td>\n",
       "      <td>...</td>\n",
       "    </tr>\n",
       "    <tr>\n",
       "      <th>1309</th>\n",
       "      <td>2015 Maruti Ciaz ZDI</td>\n",
       "      <td>17,927kmDiesel1st Owner</td>\n",
       "      <td>₹ 5,98,799</td>\n",
       "    </tr>\n",
       "    <tr>\n",
       "      <th>1310</th>\n",
       "      <td>2011 Nissan Micra XV PETROL</td>\n",
       "      <td>48,380kmPetrol2nd Owner</td>\n",
       "      <td>₹ 1,87,899</td>\n",
       "    </tr>\n",
       "    <tr>\n",
       "      <th>1311</th>\n",
       "      <td>2017 Datsun Go Plus T</td>\n",
       "      <td>22,195kmPetrol1st Owner</td>\n",
       "      <td>₹ 3,29,199</td>\n",
       "    </tr>\n",
       "    <tr>\n",
       "      <th>1312</th>\n",
       "      <td>2017 Maruti Dzire ZXI</td>\n",
       "      <td>37,024kmPetrol1st Owner</td>\n",
       "      <td>₹ 5,99,199</td>\n",
       "    </tr>\n",
       "    <tr>\n",
       "      <th>1313</th>\n",
       "      <td>2015 Honda City VX MT PETROL</td>\n",
       "      <td>62,358kmPetrol1st Owner</td>\n",
       "      <td>₹ 6,17,999</td>\n",
       "    </tr>\n",
       "  </tbody>\n",
       "</table>\n",
       "<p>1314 rows × 3 columns</p>\n",
       "</div>"
      ],
      "text/plain": [
       "                                 model                       km        cost\n",
       "0             2015 Maruti Alto 800 VXI   8,322kmPetrol1st Owner  ₹ 2,82,599\n",
       "1     2014 Maruti Wagon R Stingray VXI   9,296kmPetrol1st Owner  ₹ 3,22,699\n",
       "2        2011 Hyundai i20 SPORTZ 1.2 O  36,791kmPetrol2nd Owner  ₹ 3,21,499\n",
       "3      2012 Honda Brio 1.2 S MT I VTEC  13,567kmPetrol3rd Owner  ₹ 3,08,599\n",
       "4              2011 Maruti Wagon R VXI  26,689kmPetrol1st Owner  ₹ 3,06,999\n",
       "...                                ...                      ...         ...\n",
       "1309              2015 Maruti Ciaz ZDI  17,927kmDiesel1st Owner  ₹ 5,98,799\n",
       "1310       2011 Nissan Micra XV PETROL  48,380kmPetrol2nd Owner  ₹ 1,87,899\n",
       "1311             2017 Datsun Go Plus T  22,195kmPetrol1st Owner  ₹ 3,29,199\n",
       "1312             2017 Maruti Dzire ZXI  37,024kmPetrol1st Owner  ₹ 5,99,199\n",
       "1313      2015 Honda City VX MT PETROL  62,358kmPetrol1st Owner  ₹ 6,17,999\n",
       "\n",
       "[1314 rows x 3 columns]"
      ]
     },
     "execution_count": 79,
     "metadata": {},
     "output_type": "execute_result"
    }
   ],
   "source": [
    "cars24_2"
   ]
  },
  {
   "cell_type": "code",
   "execution_count": 80,
   "metadata": {},
   "outputs": [],
   "source": [
    "cars24_2.to_csv(\"car4.csv\")"
   ]
  },
  {
   "cell_type": "code",
   "execution_count": 102,
   "metadata": {},
   "outputs": [],
   "source": [
    "#lets first connect to the web driver\n",
    "driver4=webdriver.Chrome(r\"C://chromedriver.exe\")"
   ]
  },
  {
   "cell_type": "code",
   "execution_count": 103,
   "metadata": {},
   "outputs": [],
   "source": [
    "driver4.get('https://www.cars24.com/')\n",
    "\n",
    "url='https://www.cars24.com/buy-used-cars-mumbai/?itm_source=Cars24Website&itm_medium=sticky_header'\n",
    "\n",
    "#lets open the webpage through web driver\n",
    "driver4.get(url)"
   ]
  },
  {
   "cell_type": "code",
   "execution_count": 104,
   "metadata": {},
   "outputs": [],
   "source": [
    "price1=[]\n",
    "km1=[]\n",
    "model1=[]\n",
    "location1=[]\n",
    "date1=[]"
   ]
  },
  {
   "cell_type": "code",
   "execution_count": 105,
   "metadata": {},
   "outputs": [
    {
     "data": {
      "text/plain": [
       "['₹ 2,82,599', '₹ 3,22,699', '₹ 3,21,499', '₹ 3,08,599']"
      ]
     },
     "execution_count": 105,
     "metadata": {},
     "output_type": "execute_result"
    }
   ],
   "source": [
    "cost=driver4.find_elements_by_xpath(\"//h3[@class='_6KkG6']\")\n",
    "for i in cost:\n",
    "    title5=i.text\n",
    "    price1.append(title5)\n",
    "price1[0:4] "
   ]
  },
  {
   "cell_type": "code",
   "execution_count": 106,
   "metadata": {},
   "outputs": [
    {
     "data": {
      "text/plain": [
       "['8,322kmPetrol1st Owner',\n",
       " '9,296kmPetrol1st Owner',\n",
       " '36,791kmPetrol2nd Owner',\n",
       " '13,567kmPetrol3rd Owner']"
      ]
     },
     "execution_count": 106,
     "metadata": {},
     "output_type": "execute_result"
    }
   ],
   "source": [
    "kms=driver4.find_elements_by_xpath(\"//div[@class='_Ecri']\")\n",
    "for i in kms:\n",
    "    title=i.text\n",
    "    km1.append(title)\n",
    "km1[0:4]"
   ]
  },
  {
   "cell_type": "code",
   "execution_count": 107,
   "metadata": {},
   "outputs": [
    {
     "data": {
      "text/plain": [
       "['2015 Maruti Alto 800 VXI',\n",
       " '2014 Maruti Wagon R Stingray VXI',\n",
       " '2011 Hyundai i20 SPORTZ 1.2 O',\n",
       " '2012 Honda Brio 1.2 S MT I VTEC']"
      ]
     },
     "execution_count": 107,
     "metadata": {},
     "output_type": "execute_result"
    }
   ],
   "source": [
    "brand=driver4.find_elements_by_xpath(\"//h2[@class='_3ENhq']\")\n",
    "for i in brand:\n",
    "    title1=i.text\n",
    "    model1.append(title1)\n",
    "model1[0:4]"
   ]
  },
  {
   "cell_type": "code",
   "execution_count": 108,
   "metadata": {},
   "outputs": [
    {
     "data": {
      "text/plain": [
       "['Mumbai']"
      ]
     },
     "execution_count": 108,
     "metadata": {},
     "output_type": "execute_result"
    }
   ],
   "source": [
    "loc=driver4.find_elements_by_xpath(\"//p[@class='_1OR7d']\")\n",
    "for i in loc:\n",
    "    title2=i.text\n",
    "    location1.append(title2)\n",
    "location1[0:4]"
   ]
  },
  {
   "cell_type": "code",
   "execution_count": 109,
   "metadata": {},
   "outputs": [
    {
     "name": "stdout",
     "output_type": "stream",
     "text": [
      "1313 1313 1313\n"
     ]
    }
   ],
   "source": [
    "print(len(model1),len(price1),len(km1))"
   ]
  },
  {
   "cell_type": "code",
   "execution_count": 110,
   "metadata": {},
   "outputs": [],
   "source": [
    "cars24_3=pd.DataFrame({})\n",
    "cars24_3['model']=model1[0:1314]\n",
    "cars24_3['km']=km1[0:1314]\n",
    "cars24_3['cost']=price1[0:1314]"
   ]
  },
  {
   "cell_type": "code",
   "execution_count": 111,
   "metadata": {},
   "outputs": [
    {
     "data": {
      "text/html": [
       "<div>\n",
       "<style scoped>\n",
       "    .dataframe tbody tr th:only-of-type {\n",
       "        vertical-align: middle;\n",
       "    }\n",
       "\n",
       "    .dataframe tbody tr th {\n",
       "        vertical-align: top;\n",
       "    }\n",
       "\n",
       "    .dataframe thead th {\n",
       "        text-align: right;\n",
       "    }\n",
       "</style>\n",
       "<table border=\"1\" class=\"dataframe\">\n",
       "  <thead>\n",
       "    <tr style=\"text-align: right;\">\n",
       "      <th></th>\n",
       "      <th>model</th>\n",
       "      <th>km</th>\n",
       "      <th>cost</th>\n",
       "    </tr>\n",
       "  </thead>\n",
       "  <tbody>\n",
       "    <tr>\n",
       "      <th>0</th>\n",
       "      <td>2015 Maruti Alto 800 VXI</td>\n",
       "      <td>8,322kmPetrol1st Owner</td>\n",
       "      <td>₹ 2,82,599</td>\n",
       "    </tr>\n",
       "    <tr>\n",
       "      <th>1</th>\n",
       "      <td>2014 Maruti Wagon R Stingray VXI</td>\n",
       "      <td>9,296kmPetrol1st Owner</td>\n",
       "      <td>₹ 3,22,699</td>\n",
       "    </tr>\n",
       "    <tr>\n",
       "      <th>2</th>\n",
       "      <td>2011 Hyundai i20 SPORTZ 1.2 O</td>\n",
       "      <td>36,791kmPetrol2nd Owner</td>\n",
       "      <td>₹ 3,21,499</td>\n",
       "    </tr>\n",
       "    <tr>\n",
       "      <th>3</th>\n",
       "      <td>2012 Honda Brio 1.2 S MT I VTEC</td>\n",
       "      <td>13,567kmPetrol3rd Owner</td>\n",
       "      <td>₹ 3,08,599</td>\n",
       "    </tr>\n",
       "    <tr>\n",
       "      <th>4</th>\n",
       "      <td>2011 Maruti Wagon R VXI</td>\n",
       "      <td>26,689kmPetrol1st Owner</td>\n",
       "      <td>₹ 3,06,999</td>\n",
       "    </tr>\n",
       "    <tr>\n",
       "      <th>...</th>\n",
       "      <td>...</td>\n",
       "      <td>...</td>\n",
       "      <td>...</td>\n",
       "    </tr>\n",
       "    <tr>\n",
       "      <th>1308</th>\n",
       "      <td>2015 Maruti Ciaz ZDI</td>\n",
       "      <td>17,927kmDiesel1st Owner</td>\n",
       "      <td>₹ 5,98,799</td>\n",
       "    </tr>\n",
       "    <tr>\n",
       "      <th>1309</th>\n",
       "      <td>2011 Nissan Micra XV PETROL</td>\n",
       "      <td>48,380kmPetrol2nd Owner</td>\n",
       "      <td>₹ 1,87,899</td>\n",
       "    </tr>\n",
       "    <tr>\n",
       "      <th>1310</th>\n",
       "      <td>2017 Datsun Go Plus T</td>\n",
       "      <td>22,195kmPetrol1st Owner</td>\n",
       "      <td>₹ 3,29,199</td>\n",
       "    </tr>\n",
       "    <tr>\n",
       "      <th>1311</th>\n",
       "      <td>2017 Maruti Dzire ZXI</td>\n",
       "      <td>37,024kmPetrol1st Owner</td>\n",
       "      <td>₹ 5,99,199</td>\n",
       "    </tr>\n",
       "    <tr>\n",
       "      <th>1312</th>\n",
       "      <td>2015 Honda City VX MT PETROL</td>\n",
       "      <td>62,358kmPetrol1st Owner</td>\n",
       "      <td>₹ 6,17,999</td>\n",
       "    </tr>\n",
       "  </tbody>\n",
       "</table>\n",
       "<p>1313 rows × 3 columns</p>\n",
       "</div>"
      ],
      "text/plain": [
       "                                 model                       km        cost\n",
       "0             2015 Maruti Alto 800 VXI   8,322kmPetrol1st Owner  ₹ 2,82,599\n",
       "1     2014 Maruti Wagon R Stingray VXI   9,296kmPetrol1st Owner  ₹ 3,22,699\n",
       "2        2011 Hyundai i20 SPORTZ 1.2 O  36,791kmPetrol2nd Owner  ₹ 3,21,499\n",
       "3      2012 Honda Brio 1.2 S MT I VTEC  13,567kmPetrol3rd Owner  ₹ 3,08,599\n",
       "4              2011 Maruti Wagon R VXI  26,689kmPetrol1st Owner  ₹ 3,06,999\n",
       "...                                ...                      ...         ...\n",
       "1308              2015 Maruti Ciaz ZDI  17,927kmDiesel1st Owner  ₹ 5,98,799\n",
       "1309       2011 Nissan Micra XV PETROL  48,380kmPetrol2nd Owner  ₹ 1,87,899\n",
       "1310             2017 Datsun Go Plus T  22,195kmPetrol1st Owner  ₹ 3,29,199\n",
       "1311             2017 Maruti Dzire ZXI  37,024kmPetrol1st Owner  ₹ 5,99,199\n",
       "1312      2015 Honda City VX MT PETROL  62,358kmPetrol1st Owner  ₹ 6,17,999\n",
       "\n",
       "[1313 rows x 3 columns]"
      ]
     },
     "execution_count": 111,
     "metadata": {},
     "output_type": "execute_result"
    }
   ],
   "source": [
    "cars24_3"
   ]
  },
  {
   "cell_type": "code",
   "execution_count": 112,
   "metadata": {},
   "outputs": [],
   "source": [
    "cars24_3.to_csv(\"car5.csv\")"
   ]
  },
  {
   "cell_type": "code",
   "execution_count": 143,
   "metadata": {},
   "outputs": [],
   "source": [
    "#lets first connect to the web driver\n",
    "driver5=webdriver.Chrome(r\"C://chromedriver.exe\")"
   ]
  },
  {
   "cell_type": "code",
   "execution_count": 144,
   "metadata": {},
   "outputs": [],
   "source": [
    "driver5.get('https://www.cardekho.com/')\n",
    "\n",
    "url='https://www.cardekho.com/used-cars+in+bangalore'\n",
    "\n",
    "#lets open the webpage through web driver\n",
    "driver5.get(url)"
   ]
  },
  {
   "cell_type": "code",
   "execution_count": 145,
   "metadata": {},
   "outputs": [],
   "source": [
    "price1=[]\n",
    "km1=[]\n",
    "model1=[]\n",
    "location1=[]\n",
    "date1=[]"
   ]
  },
  {
   "cell_type": "code",
   "execution_count": 146,
   "metadata": {},
   "outputs": [
    {
     "data": {
      "text/plain": [
       "['₹ 2.92 Lakh\\nFixed Price\\nEMI @ ₹ 5,908',\n",
       " '₹ 5.31 Lakh\\nFixed Price\\nEMI @ ₹ 10,743',\n",
       " '₹ 6.6 Lakh\\nFixed Price\\nEMI @ ₹ 13,364',\n",
       " '₹ 6.01 Lakh\\nFixed Price\\nEMI @ ₹ 12,173']"
      ]
     },
     "execution_count": 146,
     "metadata": {},
     "output_type": "execute_result"
    }
   ],
   "source": [
    "cost=driver5.find_elements_by_xpath(\"//div[@class='price gsc_col-xs-5 text-right']\")\n",
    "for i in cost:\n",
    "    title5=i.text\n",
    "    price1.append(title5)\n",
    "price1[0:4] "
   ]
  },
  {
   "cell_type": "code",
   "execution_count": 147,
   "metadata": {},
   "outputs": [
    {
     "data": {
      "text/plain": [
       "['18,778 kmsPetrol',\n",
       " '17,223 kmsPetrol',\n",
       " '37,709 kmsPetrol',\n",
       " '40,531 kmsPetrol']"
      ]
     },
     "execution_count": 147,
     "metadata": {},
     "output_type": "execute_result"
    }
   ],
   "source": [
    "kms=driver5.find_elements_by_xpath(\"//div[@class='truncate dotlist']\")\n",
    "for i in kms:\n",
    "    title=i.text\n",
    "    km1.append(title)\n",
    "km1[0:4]"
   ]
  },
  {
   "cell_type": "code",
   "execution_count": 148,
   "metadata": {},
   "outputs": [
    {
     "data": {
      "text/plain": [
       "['2014 Maruti Alto 800\\nLXI\\n18,778 kmsPetrol',\n",
       " '2018 Maruti Celerio\\nZXI\\n17,223 kmsPetrol',\n",
       " '2016 Honda Jazz\\nV CVT\\n37,709 kmsPetrol',\n",
       " '2014 Hyundai i20\\nAsta 1.2\\n40,531 kmsPetrol']"
      ]
     },
     "execution_count": 148,
     "metadata": {},
     "output_type": "execute_result"
    }
   ],
   "source": [
    "brand=driver5.find_elements_by_xpath(\"//div[@class='gsc_col-xs-7 carsName']\")\n",
    "for i in brand:\n",
    "    title1=i.text\n",
    "    model1.append(title1)\n",
    "model1[0:4]"
   ]
  },
  {
   "cell_type": "code",
   "execution_count": 149,
   "metadata": {},
   "outputs": [
    {
     "name": "stdout",
     "output_type": "stream",
     "text": [
      "141 141 141\n"
     ]
    }
   ],
   "source": [
    "print(len(model1),len(price1),len(km1))"
   ]
  },
  {
   "cell_type": "code",
   "execution_count": 151,
   "metadata": {},
   "outputs": [],
   "source": [
    "cardekho=pd.DataFrame({})\n",
    "cardekho['model']=model1[0:141]\n",
    "cardekho['km']=km1[0:141]\n",
    "cardekho['cost']=price1[0:141]"
   ]
  },
  {
   "cell_type": "code",
   "execution_count": 152,
   "metadata": {},
   "outputs": [
    {
     "data": {
      "text/html": [
       "<div>\n",
       "<style scoped>\n",
       "    .dataframe tbody tr th:only-of-type {\n",
       "        vertical-align: middle;\n",
       "    }\n",
       "\n",
       "    .dataframe tbody tr th {\n",
       "        vertical-align: top;\n",
       "    }\n",
       "\n",
       "    .dataframe thead th {\n",
       "        text-align: right;\n",
       "    }\n",
       "</style>\n",
       "<table border=\"1\" class=\"dataframe\">\n",
       "  <thead>\n",
       "    <tr style=\"text-align: right;\">\n",
       "      <th></th>\n",
       "      <th>model</th>\n",
       "      <th>km</th>\n",
       "      <th>cost</th>\n",
       "    </tr>\n",
       "  </thead>\n",
       "  <tbody>\n",
       "    <tr>\n",
       "      <th>0</th>\n",
       "      <td>2014 Maruti Alto 800\\nLXI\\n18,778 kmsPetrol</td>\n",
       "      <td>18,778 kmsPetrol</td>\n",
       "      <td>₹ 2.92 Lakh\\nFixed Price\\nEMI @ ₹ 5,908</td>\n",
       "    </tr>\n",
       "    <tr>\n",
       "      <th>1</th>\n",
       "      <td>2018 Maruti Celerio\\nZXI\\n17,223 kmsPetrol</td>\n",
       "      <td>17,223 kmsPetrol</td>\n",
       "      <td>₹ 5.31 Lakh\\nFixed Price\\nEMI @ ₹ 10,743</td>\n",
       "    </tr>\n",
       "    <tr>\n",
       "      <th>2</th>\n",
       "      <td>2016 Honda Jazz\\nV CVT\\n37,709 kmsPetrol</td>\n",
       "      <td>37,709 kmsPetrol</td>\n",
       "      <td>₹ 6.6 Lakh\\nFixed Price\\nEMI @ ₹ 13,364</td>\n",
       "    </tr>\n",
       "    <tr>\n",
       "      <th>3</th>\n",
       "      <td>2014 Hyundai i20\\nAsta 1.2\\n40,531 kmsPetrol</td>\n",
       "      <td>40,531 kmsPetrol</td>\n",
       "      <td>₹ 6.01 Lakh\\nFixed Price\\nEMI @ ₹ 12,173</td>\n",
       "    </tr>\n",
       "    <tr>\n",
       "      <th>4</th>\n",
       "      <td>2017 Volvo S60\\nD4 Momentum BSIV\\n36,738 kmsDi...</td>\n",
       "      <td>36,738 kmsDiesel</td>\n",
       "      <td>₹ 23.5 Lakh\\nEMI @ ₹ 47,583\\nBangalore</td>\n",
       "    </tr>\n",
       "    <tr>\n",
       "      <th>...</th>\n",
       "      <td>...</td>\n",
       "      <td>...</td>\n",
       "      <td>...</td>\n",
       "    </tr>\n",
       "    <tr>\n",
       "      <th>136</th>\n",
       "      <td>2019 Maruti Swift\\nVXI\\n20,000 kmsPetrol</td>\n",
       "      <td>20,000 kmsPetrol</td>\n",
       "      <td>₹ 6.19 Lakh\\nEMI @ ₹ 11,037\\nBangalore</td>\n",
       "    </tr>\n",
       "    <tr>\n",
       "      <th>137</th>\n",
       "      <td>2014 Skoda Octavia\\nAmbition 2.0 TDI AT\\n86,48...</td>\n",
       "      <td>86,480 kmsDiesel</td>\n",
       "      <td>₹ 14.5 Lakh\\nEMI @ ₹ 29,360\\nBangalore</td>\n",
       "    </tr>\n",
       "    <tr>\n",
       "      <th>138</th>\n",
       "      <td>2015 Hyundai Xcent\\n1.1 CRDi SX\\n90,000 kmsDiesel</td>\n",
       "      <td>90,000 kmsDiesel</td>\n",
       "      <td>₹ 2.99 Lakh\\nEMI @ ₹ 6,054\\nBangalore</td>\n",
       "    </tr>\n",
       "    <tr>\n",
       "      <th>139</th>\n",
       "      <td>2015 Maruti Celerio\\nVXI AT\\n17,042 kmsPetrol</td>\n",
       "      <td>17,042 kmsPetrol</td>\n",
       "      <td>₹ 4.39 Lakh\\nEMI @ ₹ 8,889\\nBangalore</td>\n",
       "    </tr>\n",
       "    <tr>\n",
       "      <th>140</th>\n",
       "      <td>2010 Hyundai Grand i10\\nSportz 1.2\\n89,919 kms...</td>\n",
       "      <td>89,919 kmsPetrol</td>\n",
       "      <td>₹ 2.94 Lakh\\nBangalore</td>\n",
       "    </tr>\n",
       "  </tbody>\n",
       "</table>\n",
       "<p>141 rows × 3 columns</p>\n",
       "</div>"
      ],
      "text/plain": [
       "                                                 model                km  \\\n",
       "0          2014 Maruti Alto 800\\nLXI\\n18,778 kmsPetrol  18,778 kmsPetrol   \n",
       "1           2018 Maruti Celerio\\nZXI\\n17,223 kmsPetrol  17,223 kmsPetrol   \n",
       "2             2016 Honda Jazz\\nV CVT\\n37,709 kmsPetrol  37,709 kmsPetrol   \n",
       "3         2014 Hyundai i20\\nAsta 1.2\\n40,531 kmsPetrol  40,531 kmsPetrol   \n",
       "4    2017 Volvo S60\\nD4 Momentum BSIV\\n36,738 kmsDi...  36,738 kmsDiesel   \n",
       "..                                                 ...               ...   \n",
       "136           2019 Maruti Swift\\nVXI\\n20,000 kmsPetrol  20,000 kmsPetrol   \n",
       "137  2014 Skoda Octavia\\nAmbition 2.0 TDI AT\\n86,48...  86,480 kmsDiesel   \n",
       "138  2015 Hyundai Xcent\\n1.1 CRDi SX\\n90,000 kmsDiesel  90,000 kmsDiesel   \n",
       "139      2015 Maruti Celerio\\nVXI AT\\n17,042 kmsPetrol  17,042 kmsPetrol   \n",
       "140  2010 Hyundai Grand i10\\nSportz 1.2\\n89,919 kms...  89,919 kmsPetrol   \n",
       "\n",
       "                                         cost  \n",
       "0     ₹ 2.92 Lakh\\nFixed Price\\nEMI @ ₹ 5,908  \n",
       "1    ₹ 5.31 Lakh\\nFixed Price\\nEMI @ ₹ 10,743  \n",
       "2     ₹ 6.6 Lakh\\nFixed Price\\nEMI @ ₹ 13,364  \n",
       "3    ₹ 6.01 Lakh\\nFixed Price\\nEMI @ ₹ 12,173  \n",
       "4      ₹ 23.5 Lakh\\nEMI @ ₹ 47,583\\nBangalore  \n",
       "..                                        ...  \n",
       "136    ₹ 6.19 Lakh\\nEMI @ ₹ 11,037\\nBangalore  \n",
       "137    ₹ 14.5 Lakh\\nEMI @ ₹ 29,360\\nBangalore  \n",
       "138     ₹ 2.99 Lakh\\nEMI @ ₹ 6,054\\nBangalore  \n",
       "139     ₹ 4.39 Lakh\\nEMI @ ₹ 8,889\\nBangalore  \n",
       "140                    ₹ 2.94 Lakh\\nBangalore  \n",
       "\n",
       "[141 rows x 3 columns]"
      ]
     },
     "execution_count": 152,
     "metadata": {},
     "output_type": "execute_result"
    }
   ],
   "source": [
    "cardekho"
   ]
  },
  {
   "cell_type": "code",
   "execution_count": 153,
   "metadata": {},
   "outputs": [],
   "source": [
    "cardekho.to_csv(\"car6.csv\")"
   ]
  },
  {
   "cell_type": "code",
   "execution_count": 154,
   "metadata": {},
   "outputs": [],
   "source": [
    "#lets first connect to the web driver\n",
    "driver6=webdriver.Chrome(r\"C://chromedriver.exe\")"
   ]
  },
  {
   "cell_type": "code",
   "execution_count": 155,
   "metadata": {},
   "outputs": [],
   "source": [
    "driver6.get('https://www.cardekho.com/')\n",
    "\n",
    "url='https://www.cardekho.com/used-cars+in+delhi-ncr'\n",
    "\n",
    "#lets open the webpage through web driver\n",
    "driver6.get(url)"
   ]
  },
  {
   "cell_type": "code",
   "execution_count": 156,
   "metadata": {},
   "outputs": [],
   "source": [
    "price1=[]\n",
    "km1=[]\n",
    "model1=[]\n",
    "location1=[]\n",
    "date1=[]"
   ]
  },
  {
   "cell_type": "code",
   "execution_count": 157,
   "metadata": {},
   "outputs": [
    {
     "data": {
      "text/plain": [
       "['₹ 5.64 Lakh\\nFixed Price\\nEMI @ ₹ 9,105',\n",
       " '₹ 5.46 Lakh\\nFixed Price\\nEMI @ ₹ 11,059',\n",
       " '₹ 3.22 Lakh\\nFixed Price\\nEMI @ ₹ 6,530',\n",
       " '₹ 5.22 Lakh\\nFixed Price\\nEMI @ ₹ 10,559']"
      ]
     },
     "execution_count": 157,
     "metadata": {},
     "output_type": "execute_result"
    }
   ],
   "source": [
    "cost=driver6.find_elements_by_xpath(\"//div[@class='price gsc_col-xs-5 text-right']\")\n",
    "for i in cost:\n",
    "    title5=i.text\n",
    "    price1.append(title5)\n",
    "price1[0:4] "
   ]
  },
  {
   "cell_type": "code",
   "execution_count": 158,
   "metadata": {},
   "outputs": [
    {
     "data": {
      "text/plain": [
       "['9,437 kmsPetrol', '20,267 kmsPetrol', '68,117 kmsDiesel', '21,377 kmsPetrol']"
      ]
     },
     "execution_count": 158,
     "metadata": {},
     "output_type": "execute_result"
    }
   ],
   "source": [
    "kms=driver6.find_elements_by_xpath(\"//div[@class='truncate dotlist']\")\n",
    "for i in kms:\n",
    "    title=i.text\n",
    "    km1.append(title)\n",
    "km1[0:4]"
   ]
  },
  {
   "cell_type": "code",
   "execution_count": 159,
   "metadata": {},
   "outputs": [
    {
     "data": {
      "text/plain": [
       "['2020 Maruti Baleno\\nSigma\\n9,437 kmsPetrol',\n",
       " '2017 Maruti Baleno\\nDelta\\n20,267 kmsPetrol',\n",
       " '2014 Volkswagen Polo\\n1.5 TDI Comfortline\\n68,117 kmsDiesel',\n",
       " '2018 Maruti Baleno\\nSigma\\n21,377 kmsPetrol']"
      ]
     },
     "execution_count": 159,
     "metadata": {},
     "output_type": "execute_result"
    }
   ],
   "source": [
    "brand=driver6.find_elements_by_xpath(\"//div[@class='gsc_col-xs-7 carsName']\")\n",
    "for i in brand:\n",
    "    title1=i.text\n",
    "    model1.append(title1)\n",
    "model1[0:4]"
   ]
  },
  {
   "cell_type": "code",
   "execution_count": 160,
   "metadata": {},
   "outputs": [
    {
     "name": "stdout",
     "output_type": "stream",
     "text": [
      "465 465 465\n"
     ]
    }
   ],
   "source": [
    "print(len(model1),len(price1),len(km1))"
   ]
  },
  {
   "cell_type": "code",
   "execution_count": 161,
   "metadata": {},
   "outputs": [],
   "source": [
    "cardekho1=pd.DataFrame({})\n",
    "cardekho1['model']=model1[0:465]\n",
    "cardekho1['km']=km1[0:465]\n",
    "cardekho1['cost']=price1[0:465]"
   ]
  },
  {
   "cell_type": "code",
   "execution_count": 162,
   "metadata": {},
   "outputs": [
    {
     "data": {
      "text/html": [
       "<div>\n",
       "<style scoped>\n",
       "    .dataframe tbody tr th:only-of-type {\n",
       "        vertical-align: middle;\n",
       "    }\n",
       "\n",
       "    .dataframe tbody tr th {\n",
       "        vertical-align: top;\n",
       "    }\n",
       "\n",
       "    .dataframe thead th {\n",
       "        text-align: right;\n",
       "    }\n",
       "</style>\n",
       "<table border=\"1\" class=\"dataframe\">\n",
       "  <thead>\n",
       "    <tr style=\"text-align: right;\">\n",
       "      <th></th>\n",
       "      <th>model</th>\n",
       "      <th>km</th>\n",
       "      <th>cost</th>\n",
       "    </tr>\n",
       "  </thead>\n",
       "  <tbody>\n",
       "    <tr>\n",
       "      <th>0</th>\n",
       "      <td>2020 Maruti Baleno\\nSigma\\n9,437 kmsPetrol</td>\n",
       "      <td>9,437 kmsPetrol</td>\n",
       "      <td>₹ 5.64 Lakh\\nFixed Price\\nEMI @ ₹ 9,105</td>\n",
       "    </tr>\n",
       "    <tr>\n",
       "      <th>1</th>\n",
       "      <td>2017 Maruti Baleno\\nDelta\\n20,267 kmsPetrol</td>\n",
       "      <td>20,267 kmsPetrol</td>\n",
       "      <td>₹ 5.46 Lakh\\nFixed Price\\nEMI @ ₹ 11,059</td>\n",
       "    </tr>\n",
       "    <tr>\n",
       "      <th>2</th>\n",
       "      <td>2014 Volkswagen Polo\\n1.5 TDI Comfortline\\n68,...</td>\n",
       "      <td>68,117 kmsDiesel</td>\n",
       "      <td>₹ 3.22 Lakh\\nFixed Price\\nEMI @ ₹ 6,530</td>\n",
       "    </tr>\n",
       "    <tr>\n",
       "      <th>3</th>\n",
       "      <td>2018 Maruti Baleno\\nSigma\\n21,377 kmsPetrol</td>\n",
       "      <td>21,377 kmsPetrol</td>\n",
       "      <td>₹ 5.22 Lakh\\nFixed Price\\nEMI @ ₹ 10,559</td>\n",
       "    </tr>\n",
       "    <tr>\n",
       "      <th>4</th>\n",
       "      <td>2020 Mercedes-Benz V-Class\\nExclusive\\n15,000 ...</td>\n",
       "      <td>15,000 kmsDiesel</td>\n",
       "      <td>₹ 85 Lakh\\nEMI @ ₹ 1.37 Lakh\\nNew Delhi</td>\n",
       "    </tr>\n",
       "    <tr>\n",
       "      <th>...</th>\n",
       "      <td>...</td>\n",
       "      <td>...</td>\n",
       "      <td>...</td>\n",
       "    </tr>\n",
       "    <tr>\n",
       "      <th>460</th>\n",
       "      <td>2018 Maruti Vitara Brezza\\nZDi Plus AMT Dual T...</td>\n",
       "      <td>44,000 kmsDiesel</td>\n",
       "      <td>₹ 9 Lakh\\nEMI @ ₹ 18,223\\nNew Delhi</td>\n",
       "    </tr>\n",
       "    <tr>\n",
       "      <th>461</th>\n",
       "      <td>2012 Mercedes-Benz E-Class\\nE 220 CDI Avantgar...</td>\n",
       "      <td>38,000 kmsDiesel</td>\n",
       "      <td>₹ 10.5 Lakh\\nNew Delhi</td>\n",
       "    </tr>\n",
       "    <tr>\n",
       "      <th>462</th>\n",
       "      <td>2012 Nissan Micra\\nDiesel XV\\n65,000 kmsDiesel</td>\n",
       "      <td>65,000 kmsDiesel</td>\n",
       "      <td>₹ 2.5 Lakh\\nGhaziabad</td>\n",
       "    </tr>\n",
       "    <tr>\n",
       "      <th>463</th>\n",
       "      <td>2007 Maruti SX4\\nZxi BSIII\\n1,09,586 kmsPetrol</td>\n",
       "      <td>1,09,586 kmsPetrol</td>\n",
       "      <td>₹ 1.55 Lakh\\nNew Delhi</td>\n",
       "    </tr>\n",
       "    <tr>\n",
       "      <th>464</th>\n",
       "      <td>2017 Audi Q3\\n30 TFSI Premium FWD\\n39,600 kmsP...</td>\n",
       "      <td>39,600 kmsPetrol</td>\n",
       "      <td>₹ 24.8 Lakh\\nEMI @ ₹ 50,216\\nGurgaon</td>\n",
       "    </tr>\n",
       "  </tbody>\n",
       "</table>\n",
       "<p>465 rows × 3 columns</p>\n",
       "</div>"
      ],
      "text/plain": [
       "                                                 model                  km  \\\n",
       "0           2020 Maruti Baleno\\nSigma\\n9,437 kmsPetrol     9,437 kmsPetrol   \n",
       "1          2017 Maruti Baleno\\nDelta\\n20,267 kmsPetrol    20,267 kmsPetrol   \n",
       "2    2014 Volkswagen Polo\\n1.5 TDI Comfortline\\n68,...    68,117 kmsDiesel   \n",
       "3          2018 Maruti Baleno\\nSigma\\n21,377 kmsPetrol    21,377 kmsPetrol   \n",
       "4    2020 Mercedes-Benz V-Class\\nExclusive\\n15,000 ...    15,000 kmsDiesel   \n",
       "..                                                 ...                 ...   \n",
       "460  2018 Maruti Vitara Brezza\\nZDi Plus AMT Dual T...    44,000 kmsDiesel   \n",
       "461  2012 Mercedes-Benz E-Class\\nE 220 CDI Avantgar...    38,000 kmsDiesel   \n",
       "462     2012 Nissan Micra\\nDiesel XV\\n65,000 kmsDiesel    65,000 kmsDiesel   \n",
       "463     2007 Maruti SX4\\nZxi BSIII\\n1,09,586 kmsPetrol  1,09,586 kmsPetrol   \n",
       "464  2017 Audi Q3\\n30 TFSI Premium FWD\\n39,600 kmsP...    39,600 kmsPetrol   \n",
       "\n",
       "                                         cost  \n",
       "0     ₹ 5.64 Lakh\\nFixed Price\\nEMI @ ₹ 9,105  \n",
       "1    ₹ 5.46 Lakh\\nFixed Price\\nEMI @ ₹ 11,059  \n",
       "2     ₹ 3.22 Lakh\\nFixed Price\\nEMI @ ₹ 6,530  \n",
       "3    ₹ 5.22 Lakh\\nFixed Price\\nEMI @ ₹ 10,559  \n",
       "4     ₹ 85 Lakh\\nEMI @ ₹ 1.37 Lakh\\nNew Delhi  \n",
       "..                                        ...  \n",
       "460       ₹ 9 Lakh\\nEMI @ ₹ 18,223\\nNew Delhi  \n",
       "461                    ₹ 10.5 Lakh\\nNew Delhi  \n",
       "462                     ₹ 2.5 Lakh\\nGhaziabad  \n",
       "463                    ₹ 1.55 Lakh\\nNew Delhi  \n",
       "464      ₹ 24.8 Lakh\\nEMI @ ₹ 50,216\\nGurgaon  \n",
       "\n",
       "[465 rows x 3 columns]"
      ]
     },
     "execution_count": 162,
     "metadata": {},
     "output_type": "execute_result"
    }
   ],
   "source": [
    "cardekho1"
   ]
  },
  {
   "cell_type": "code",
   "execution_count": 163,
   "metadata": {},
   "outputs": [],
   "source": [
    "cardekho1.to_csv(\"car7.csv\")"
   ]
  },
  {
   "cell_type": "code",
   "execution_count": null,
   "metadata": {},
   "outputs": [],
   "source": [
    "\n"
   ]
  }
 ],
 "metadata": {
  "kernelspec": {
   "display_name": "Python 3",
   "language": "python",
   "name": "python3"
  },
  "language_info": {
   "codemirror_mode": {
    "name": "ipython",
    "version": 3
   },
   "file_extension": ".py",
   "mimetype": "text/x-python",
   "name": "python",
   "nbconvert_exporter": "python",
   "pygments_lexer": "ipython3",
   "version": "3.8.3"
  }
 },
 "nbformat": 4,
 "nbformat_minor": 4
}
